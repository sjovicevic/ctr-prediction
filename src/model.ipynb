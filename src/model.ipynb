{
 "cells": [
  {
   "cell_type": "code",
   "execution_count": 1,
   "metadata": {
    "collapsed": true,
    "ExecuteTime": {
     "end_time": "2023-08-06T18:50:50.902340669Z",
     "start_time": "2023-08-06T18:50:50.549157156Z"
    }
   },
   "outputs": [],
   "source": [
    "import pandas as pd"
   ]
  },
  {
   "cell_type": "code",
   "execution_count": 2,
   "outputs": [],
   "source": [
    "X_train = pd.read_csv('data/X_train.csv')\n",
    "y_train = pd.read_csv('data/y_train.csv')"
   ],
   "metadata": {
    "collapsed": false,
    "ExecuteTime": {
     "end_time": "2023-08-06T18:50:56.690935665Z",
     "start_time": "2023-08-06T18:50:51.609755451Z"
    }
   }
  },
  {
   "cell_type": "code",
   "execution_count": 3,
   "outputs": [
    {
     "data": {
      "text/plain": "(2021448, 24)"
     },
     "execution_count": 3,
     "metadata": {},
     "output_type": "execute_result"
    }
   ],
   "source": [
    "X_train.shape"
   ],
   "metadata": {
    "collapsed": false,
    "ExecuteTime": {
     "end_time": "2023-08-06T18:51:53.737253242Z",
     "start_time": "2023-08-06T18:51:53.646273805Z"
    }
   }
  },
  {
   "cell_type": "code",
   "execution_count": 4,
   "outputs": [],
   "source": [
    "import category_encoders as ce"
   ],
   "metadata": {
    "collapsed": false,
    "ExecuteTime": {
     "end_time": "2023-08-06T18:51:55.675315756Z",
     "start_time": "2023-08-06T18:51:54.889126359Z"
    }
   }
  },
  {
   "cell_type": "code",
   "execution_count": 5,
   "outputs": [
    {
     "data": {
      "text/plain": "      index    C1  banner_pos   site_id  site_domain  site_category    app_id  \\\n0  18201910  1005           0  0.118590     0.122438       0.128065  0.188735   \n1  35141968  1005           1  0.298257     0.260324       0.180248  0.198970   \n2  11358550  1005           0  0.118590     0.122438       0.128065  0.010814   \n3  36241996  1005           0  0.118590     0.122438       0.128065  0.147823   \n4   2987382  1005           0  0.205980     0.205980       0.208215  0.198970   \n\n   app_domain  app_category  device_id  ...    C14  C15  C16   C17  C18  C19  \\\n0    0.182843      0.093020   0.147823  ...  16615  320   50  1863    3   39   \n1    0.195158      0.199443   0.174547  ...  17264  320   50  1872    3   39   \n2    0.023289      0.093020   0.174547  ...  21191  320   50  2424    1  161   \n3    0.111282      0.107986   0.174547  ...  20751  320   50  1895    0  681   \n4    0.195158      0.199443   0.174547  ...  21724  320   50  2502    0   35   \n\n   C21  dayofweek  day  hour  \n0   23          5   25    12  \n1   23          2   29    15  \n2   71          3   23    10  \n3  101          3   30     0  \n4  221          1   21    15  \n\n[5 rows x 24 columns]",
      "text/html": "<div>\n<style scoped>\n    .dataframe tbody tr th:only-of-type {\n        vertical-align: middle;\n    }\n\n    .dataframe tbody tr th {\n        vertical-align: top;\n    }\n\n    .dataframe thead th {\n        text-align: right;\n    }\n</style>\n<table border=\"1\" class=\"dataframe\">\n  <thead>\n    <tr style=\"text-align: right;\">\n      <th></th>\n      <th>index</th>\n      <th>C1</th>\n      <th>banner_pos</th>\n      <th>site_id</th>\n      <th>site_domain</th>\n      <th>site_category</th>\n      <th>app_id</th>\n      <th>app_domain</th>\n      <th>app_category</th>\n      <th>device_id</th>\n      <th>...</th>\n      <th>C14</th>\n      <th>C15</th>\n      <th>C16</th>\n      <th>C17</th>\n      <th>C18</th>\n      <th>C19</th>\n      <th>C21</th>\n      <th>dayofweek</th>\n      <th>day</th>\n      <th>hour</th>\n    </tr>\n  </thead>\n  <tbody>\n    <tr>\n      <th>0</th>\n      <td>18201910</td>\n      <td>1005</td>\n      <td>0</td>\n      <td>0.118590</td>\n      <td>0.122438</td>\n      <td>0.128065</td>\n      <td>0.188735</td>\n      <td>0.182843</td>\n      <td>0.093020</td>\n      <td>0.147823</td>\n      <td>...</td>\n      <td>16615</td>\n      <td>320</td>\n      <td>50</td>\n      <td>1863</td>\n      <td>3</td>\n      <td>39</td>\n      <td>23</td>\n      <td>5</td>\n      <td>25</td>\n      <td>12</td>\n    </tr>\n    <tr>\n      <th>1</th>\n      <td>35141968</td>\n      <td>1005</td>\n      <td>1</td>\n      <td>0.298257</td>\n      <td>0.260324</td>\n      <td>0.180248</td>\n      <td>0.198970</td>\n      <td>0.195158</td>\n      <td>0.199443</td>\n      <td>0.174547</td>\n      <td>...</td>\n      <td>17264</td>\n      <td>320</td>\n      <td>50</td>\n      <td>1872</td>\n      <td>3</td>\n      <td>39</td>\n      <td>23</td>\n      <td>2</td>\n      <td>29</td>\n      <td>15</td>\n    </tr>\n    <tr>\n      <th>2</th>\n      <td>11358550</td>\n      <td>1005</td>\n      <td>0</td>\n      <td>0.118590</td>\n      <td>0.122438</td>\n      <td>0.128065</td>\n      <td>0.010814</td>\n      <td>0.023289</td>\n      <td>0.093020</td>\n      <td>0.174547</td>\n      <td>...</td>\n      <td>21191</td>\n      <td>320</td>\n      <td>50</td>\n      <td>2424</td>\n      <td>1</td>\n      <td>161</td>\n      <td>71</td>\n      <td>3</td>\n      <td>23</td>\n      <td>10</td>\n    </tr>\n    <tr>\n      <th>3</th>\n      <td>36241996</td>\n      <td>1005</td>\n      <td>0</td>\n      <td>0.118590</td>\n      <td>0.122438</td>\n      <td>0.128065</td>\n      <td>0.147823</td>\n      <td>0.111282</td>\n      <td>0.107986</td>\n      <td>0.174547</td>\n      <td>...</td>\n      <td>20751</td>\n      <td>320</td>\n      <td>50</td>\n      <td>1895</td>\n      <td>0</td>\n      <td>681</td>\n      <td>101</td>\n      <td>3</td>\n      <td>30</td>\n      <td>0</td>\n    </tr>\n    <tr>\n      <th>4</th>\n      <td>2987382</td>\n      <td>1005</td>\n      <td>0</td>\n      <td>0.205980</td>\n      <td>0.205980</td>\n      <td>0.208215</td>\n      <td>0.198970</td>\n      <td>0.195158</td>\n      <td>0.199443</td>\n      <td>0.174547</td>\n      <td>...</td>\n      <td>21724</td>\n      <td>320</td>\n      <td>50</td>\n      <td>2502</td>\n      <td>0</td>\n      <td>35</td>\n      <td>221</td>\n      <td>1</td>\n      <td>21</td>\n      <td>15</td>\n    </tr>\n  </tbody>\n</table>\n<p>5 rows × 24 columns</p>\n</div>"
     },
     "execution_count": 5,
     "metadata": {},
     "output_type": "execute_result"
    }
   ],
   "source": [
    "target_encoder = ce.TargetEncoder()\n",
    "X = target_encoder.fit_transform(X_train, y_train)\n",
    "X.head()"
   ],
   "metadata": {
    "collapsed": false,
    "ExecuteTime": {
     "end_time": "2023-08-06T18:52:19.611931217Z",
     "start_time": "2023-08-06T18:51:57.225713903Z"
    }
   }
  },
  {
   "cell_type": "code",
   "execution_count": 6,
   "outputs": [],
   "source": [
    "from sklearn.model_selection import train_test_split"
   ],
   "metadata": {
    "collapsed": false,
    "ExecuteTime": {
     "end_time": "2023-08-06T18:52:22.587627654Z",
     "start_time": "2023-08-06T18:52:22.502567801Z"
    }
   }
  },
  {
   "cell_type": "code",
   "execution_count": 7,
   "outputs": [],
   "source": [
    "X_train, X_test, y_train, y_test = train_test_split(X, y_train, stratify=y_train, test_size= 0.3, random_state= 42)"
   ],
   "metadata": {
    "collapsed": false,
    "ExecuteTime": {
     "end_time": "2023-08-06T18:52:29.684996734Z",
     "start_time": "2023-08-06T18:52:23.230970311Z"
    }
   }
  },
  {
   "cell_type": "code",
   "execution_count": 8,
   "outputs": [],
   "source": [
    "from sklearn import metrics"
   ],
   "metadata": {
    "collapsed": false,
    "ExecuteTime": {
     "end_time": "2023-08-06T18:52:30.832891718Z",
     "start_time": "2023-08-06T18:52:30.817179103Z"
    }
   }
  },
  {
   "cell_type": "code",
   "execution_count": 9,
   "outputs": [],
   "source": [
    "def model_evaluation(model, X_test, y_test):\n",
    "    y_pred = model.predict(X_test)\n",
    "    accuracy = metrics.accuracy_score(y_test, y_pred)\n",
    "\n",
    "    cnf_matrix = metrics.confusion_matrix(y_test, y_pred)\n",
    "\n",
    "    return accuracy, cnf_matrix"
   ],
   "metadata": {
    "collapsed": false,
    "ExecuteTime": {
     "end_time": "2023-08-06T18:52:31.781362666Z",
     "start_time": "2023-08-06T18:52:31.699376371Z"
    }
   }
  },
  {
   "cell_type": "code",
   "execution_count": 10,
   "outputs": [],
   "source": [
    "from sklearn.model_selection import cross_val_score"
   ],
   "metadata": {
    "collapsed": false,
    "ExecuteTime": {
     "end_time": "2023-08-06T18:52:33.769711848Z",
     "start_time": "2023-08-06T18:52:33.733345514Z"
    }
   }
  },
  {
   "cell_type": "code",
   "execution_count": 11,
   "outputs": [],
   "source": [
    "def cross_val(model, x, y, folds):\n",
    "    crossvalidation = cross_val_score(model, x, y, cv=folds, n_jobs=-1)\n",
    "    return crossvalidation"
   ],
   "metadata": {
    "collapsed": false,
    "ExecuteTime": {
     "end_time": "2023-08-06T18:52:34.146903088Z",
     "start_time": "2023-08-06T18:52:34.103759221Z"
    }
   }
  },
  {
   "cell_type": "code",
   "execution_count": 20,
   "outputs": [],
   "source": [
    "import matplotlib.pyplot as plt\n",
    "def draw_roc(model, X_test, actual):\n",
    "    probs = model.predict(X_test)\n",
    "    fpr, tpr, thresholds = metrics.roc_curve( actual, probs,\n",
    "                                              drop_intermediate = False )\n",
    "    auc_score = metrics.roc_auc_score( actual, probs )\n",
    "    plt.figure(figsize=(6, 6))\n",
    "    plt.plot( fpr, tpr, label='ROC curve (area = %0.2f)' % auc_score )\n",
    "    plt.plot([0, 1], [0, 1], 'k--')\n",
    "    plt.xlim([0.0, 1.0])\n",
    "    plt.ylim([0.0, 1.05])\n",
    "    plt.xlabel('False Positive Rate or [1 - True Negative Rate]')\n",
    "    plt.ylabel('True Positive Rate')\n",
    "    plt.title('Receiver operating characteristic example')\n",
    "    plt.legend(loc=\"lower right\")\n",
    "    plt.show()\n",
    "\n",
    "    return fpr, tpr, thresholds"
   ],
   "metadata": {
    "collapsed": false,
    "ExecuteTime": {
     "end_time": "2023-08-06T21:53:31.073588165Z",
     "start_time": "2023-08-06T21:53:31.027680849Z"
    }
   }
  },
  {
   "cell_type": "code",
   "execution_count": 24,
   "outputs": [],
   "source": [
    "# this stores the results in dataframe for evaluating the final result.\n",
    "\n",
    "def store_results(name, ytrain, xtrain, ytest, xtest, model, folds):\n",
    "\n",
    "    crossvalidation = cross_val(model, xtrain, ytrain, folds)\n",
    "\n",
    "    accuracy_test, cm1 = model_evaluation(model, xtrain, ytrain)\n",
    "    TP = cm1[1,1] # true positive\n",
    "    TN = cm1[0,0] # true negatives\n",
    "    FP = cm1[0,1] # false positives\n",
    "    FN = cm1[1,0] # false negatives\n",
    "    print(f'TP value: {TP}')\n",
    "    print(f'FP value: {FP}')\n",
    "    recall_test = TP / (TP+FP)\n",
    "    precision_test = TP / (TP+FN)\n",
    "\n",
    "    accuracy_train, cm1 = model_evaluation(model, xtest, ytest)\n",
    "    TP = cm1[1,1] # true positive\n",
    "    TN = cm1[0,0] # true negatives\n",
    "    FP = cm1[0,1] # false positives\n",
    "    FN = cm1[1,0] # false negatives\n",
    "    recall_train = TP / (TP+FP)\n",
    "    precision_train = TP / (TP+FN)\n",
    "\n",
    "    entry = {'Model': [name],\n",
    "          'Accuracy_train': [accuracy_train],\n",
    "          'recall_train': [recall_train],\n",
    "          'precision_train': [precision_train],\n",
    "          'Accuracy_test': [accuracy_train],\n",
    "          'recall_test': [recall_test],\n",
    "          'precision_test': [precision_test],\n",
    "          'CrossVal_Mean': [crossvalidation.mean()],\n",
    "          'CrossVal1': [crossvalidation[0]],\n",
    "          'CrossVal2': [crossvalidation[1]],\n",
    "          'CrossVal3': [crossvalidation[2]],\n",
    "          'CrossVal4': [crossvalidation[3]],\n",
    "          'CrossVal5': [crossvalidation[4]],\n",
    "          }\n",
    "    result = pd.DataFrame(entry)\n",
    "    return result\n",
    "\n"
   ],
   "metadata": {
    "collapsed": false,
    "ExecuteTime": {
     "end_time": "2023-08-06T21:54:23.123915226Z",
     "start_time": "2023-08-06T21:54:23.081878240Z"
    }
   }
  },
  {
   "cell_type": "code",
   "execution_count": 25,
   "outputs": [],
   "source": [
    "from sklearn.dummy import DummyClassifier"
   ],
   "metadata": {
    "collapsed": false,
    "ExecuteTime": {
     "end_time": "2023-08-06T21:54:24.747363727Z",
     "start_time": "2023-08-06T21:54:24.737697754Z"
    }
   }
  },
  {
   "cell_type": "code",
   "execution_count": 30,
   "outputs": [
    {
     "name": "stdout",
     "output_type": "stream",
     "text": [
      "0.8300679923081978\n",
      "[[1174557       0]\n",
      " [ 240456       0]]\n",
      "TP value: 0\n",
      "FP value: 0\n"
     ]
    },
    {
     "name": "stderr",
     "output_type": "stream",
     "text": [
      "/tmp/ipykernel_28578/3537732513.py:14: RuntimeWarning: invalid value encountered in scalar divide\n",
      "  recall_test = TP / (TP+FP)\n",
      "/tmp/ipykernel_28578/3537732513.py:22: RuntimeWarning: invalid value encountered in scalar divide\n",
      "  recall_train = TP / (TP+FP)\n"
     ]
    },
    {
     "data": {
      "text/plain": "              Model  Accuracy_train  recall_train  precision_train  \\\n0  Dummy classifier        0.830068           NaN              0.0   \n\n   Accuracy_test  recall_test  precision_test  CrossVal_Mean  CrossVal1  \\\n0       0.830068          NaN             0.0       0.830068   0.830069   \n\n   CrossVal2  CrossVal3  CrossVal4  CrossVal5  \n0   0.830069   0.830065   0.830068   0.830068  ",
      "text/html": "<div>\n<style scoped>\n    .dataframe tbody tr th:only-of-type {\n        vertical-align: middle;\n    }\n\n    .dataframe tbody tr th {\n        vertical-align: top;\n    }\n\n    .dataframe thead th {\n        text-align: right;\n    }\n</style>\n<table border=\"1\" class=\"dataframe\">\n  <thead>\n    <tr style=\"text-align: right;\">\n      <th></th>\n      <th>Model</th>\n      <th>Accuracy_train</th>\n      <th>recall_train</th>\n      <th>precision_train</th>\n      <th>Accuracy_test</th>\n      <th>recall_test</th>\n      <th>precision_test</th>\n      <th>CrossVal_Mean</th>\n      <th>CrossVal1</th>\n      <th>CrossVal2</th>\n      <th>CrossVal3</th>\n      <th>CrossVal4</th>\n      <th>CrossVal5</th>\n    </tr>\n  </thead>\n  <tbody>\n    <tr>\n      <th>0</th>\n      <td>Dummy classifier</td>\n      <td>0.830068</td>\n      <td>NaN</td>\n      <td>0.0</td>\n      <td>0.830068</td>\n      <td>NaN</td>\n      <td>0.0</td>\n      <td>0.830068</td>\n      <td>0.830069</td>\n      <td>0.830069</td>\n      <td>0.830065</td>\n      <td>0.830068</td>\n      <td>0.830068</td>\n    </tr>\n  </tbody>\n</table>\n</div>"
     },
     "execution_count": 30,
     "metadata": {},
     "output_type": "execute_result"
    }
   ],
   "source": [
    "outcome = pd.DataFrame()\n",
    "dummy_clf = DummyClassifier(strategy= \"most_frequent\")\n",
    "dummy_clf.fit(X_train, y_train)\n",
    "accuracy, cnf_matrix  = model_evaluation(dummy_clf, X_train, y_train)\n",
    "print(accuracy)\n",
    "print(cnf_matrix)\n",
    "temp = store_results(\"Dummy classifier\", y_train, X_train, y_test, X_test, dummy_clf, 5)\n",
    "outcome = pd.concat([outcome,temp])\n",
    "outcome"
   ],
   "metadata": {
    "collapsed": false,
    "ExecuteTime": {
     "end_time": "2023-08-07T06:34:23.059147115Z",
     "start_time": "2023-08-07T06:34:20.863462033Z"
    }
   }
  },
  {
   "cell_type": "code",
   "execution_count": 31,
   "outputs": [
    {
     "ename": "AttributeError",
     "evalue": "'DataFrame' object has no attribute 'values_count'",
     "output_type": "error",
     "traceback": [
      "\u001B[0;31m---------------------------------------------------------------------------\u001B[0m",
      "\u001B[0;31mAttributeError\u001B[0m                            Traceback (most recent call last)",
      "Cell \u001B[0;32mIn[31], line 1\u001B[0m\n\u001B[0;32m----> 1\u001B[0m \u001B[43my_train\u001B[49m\u001B[38;5;241;43m.\u001B[39;49m\u001B[43mvalues_count\u001B[49m()\n",
      "File \u001B[0;32m~/miniconda3/envs/exploration-ctr/lib/python3.10/site-packages/pandas/core/generic.py:5902\u001B[0m, in \u001B[0;36mNDFrame.__getattr__\u001B[0;34m(self, name)\u001B[0m\n\u001B[1;32m   5895\u001B[0m \u001B[38;5;28;01mif\u001B[39;00m (\n\u001B[1;32m   5896\u001B[0m     name \u001B[38;5;129;01mnot\u001B[39;00m \u001B[38;5;129;01min\u001B[39;00m \u001B[38;5;28mself\u001B[39m\u001B[38;5;241m.\u001B[39m_internal_names_set\n\u001B[1;32m   5897\u001B[0m     \u001B[38;5;129;01mand\u001B[39;00m name \u001B[38;5;129;01mnot\u001B[39;00m \u001B[38;5;129;01min\u001B[39;00m \u001B[38;5;28mself\u001B[39m\u001B[38;5;241m.\u001B[39m_metadata\n\u001B[1;32m   5898\u001B[0m     \u001B[38;5;129;01mand\u001B[39;00m name \u001B[38;5;129;01mnot\u001B[39;00m \u001B[38;5;129;01min\u001B[39;00m \u001B[38;5;28mself\u001B[39m\u001B[38;5;241m.\u001B[39m_accessors\n\u001B[1;32m   5899\u001B[0m     \u001B[38;5;129;01mand\u001B[39;00m \u001B[38;5;28mself\u001B[39m\u001B[38;5;241m.\u001B[39m_info_axis\u001B[38;5;241m.\u001B[39m_can_hold_identifiers_and_holds_name(name)\n\u001B[1;32m   5900\u001B[0m ):\n\u001B[1;32m   5901\u001B[0m     \u001B[38;5;28;01mreturn\u001B[39;00m \u001B[38;5;28mself\u001B[39m[name]\n\u001B[0;32m-> 5902\u001B[0m \u001B[38;5;28;01mreturn\u001B[39;00m \u001B[38;5;28;43mobject\u001B[39;49m\u001B[38;5;241;43m.\u001B[39;49m\u001B[38;5;21;43m__getattribute__\u001B[39;49m\u001B[43m(\u001B[49m\u001B[38;5;28;43mself\u001B[39;49m\u001B[43m,\u001B[49m\u001B[43m \u001B[49m\u001B[43mname\u001B[49m\u001B[43m)\u001B[49m\n",
      "\u001B[0;31mAttributeError\u001B[0m: 'DataFrame' object has no attribute 'values_count'"
     ]
    }
   ],
   "source": [],
   "metadata": {
    "collapsed": false,
    "ExecuteTime": {
     "end_time": "2023-08-07T10:14:36.334556667Z",
     "start_time": "2023-08-07T10:14:36.312627621Z"
    }
   }
  },
  {
   "cell_type": "code",
   "execution_count": null,
   "outputs": [],
   "source": [],
   "metadata": {
    "collapsed": false
   }
  }
 ],
 "metadata": {
  "kernelspec": {
   "display_name": "Python 3",
   "language": "python",
   "name": "python3"
  },
  "language_info": {
   "codemirror_mode": {
    "name": "ipython",
    "version": 2
   },
   "file_extension": ".py",
   "mimetype": "text/x-python",
   "name": "python",
   "nbconvert_exporter": "python",
   "pygments_lexer": "ipython2",
   "version": "2.7.6"
  }
 },
 "nbformat": 4,
 "nbformat_minor": 0
}
