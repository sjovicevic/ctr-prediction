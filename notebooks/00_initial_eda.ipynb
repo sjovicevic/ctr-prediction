{
 "cells": [
  {
   "cell_type": "code",
   "execution_count": 2,
   "metadata": {
    "collapsed": true,
    "ExecuteTime": {
     "end_time": "2023-08-15T08:03:56.011397Z",
     "start_time": "2023-08-15T08:03:56.002148Z"
    }
   },
   "outputs": [],
   "source": [
    "import pandas as pd\n",
    "from datetime import datetime"
   ]
  },
  {
   "cell_type": "code",
   "execution_count": 4,
   "outputs": [
    {
     "name": "stdout",
     "output_type": "stream",
     "text": [
      "Processing chunk number: 1\n",
      "Processing chunk number: 2\n",
      "Processing chunk number: 3\n",
      "Processing chunk number: 4\n",
      "Processing chunk number: 5\n",
      "Processing chunk number: 6\n",
      "Processing chunk number: 7\n",
      "Processing chunk number: 8\n",
      "Processing chunk number: 9\n",
      "Processing chunk number: 10\n",
      "Processing chunk number: 11\n",
      "Processing chunk number: 12\n",
      "Processing chunk number: 13\n",
      "Processing chunk number: 14\n",
      "Processing chunk number: 15\n",
      "Processing chunk number: 16\n",
      "Processing chunk number: 17\n",
      "Processing chunk number: 18\n",
      "Processing chunk number: 19\n",
      "Processing chunk number: 20\n",
      "Processing chunk number: 21\n",
      "Processing chunk number: 22\n",
      "Processing chunk number: 23\n",
      "Processing chunk number: 24\n",
      "Processing chunk number: 25\n",
      "Processing chunk number: 26\n",
      "Processing chunk number: 27\n",
      "Processing chunk number: 28\n",
      "Processing chunk number: 29\n",
      "Processing chunk number: 30\n",
      "Processing chunk number: 31\n",
      "Processing chunk number: 32\n",
      "Processing chunk number: 33\n",
      "Processing chunk number: 34\n",
      "Processing chunk number: 35\n",
      "Processing chunk number: 36\n",
      "Processing chunk number: 37\n",
      "Processing chunk number: 38\n",
      "Processing chunk number: 39\n",
      "Processing chunk number: 40\n",
      "Processing chunk number: 41\n"
     ]
    },
    {
     "data": {
      "text/plain": "20214484"
     },
     "execution_count": 4,
     "metadata": {},
     "output_type": "execute_result"
    }
   ],
   "source": [
    "chunksize = 10 ** 6\n",
    "num_of_chunks = 0\n",
    "train = pd.DataFrame()\n",
    "parse_date = lambda val : datetime.strptime(val, '%y%m%d%H')\n",
    "\n",
    "for chunk in pd.read_csv(\n",
    "        '/Users/intern/PycharmProjects/ctr-prediction/data/input/train',\n",
    "        parse_dates=['hour'],\n",
    "        date_parser=parse_date,\n",
    "        chunksize=chunksize):\n",
    "    num_of_chunks += 1\n",
    "    train = pd.concat([train, chunk.sample(frac=0.5, replace=False, random_state=1234)], axis=0)\n",
    "    print(f'Processing chunk number: {num_of_chunks}')\n",
    "\n",
    "train.reset_index(inplace=True)\n",
    "train_len = len(train)\n",
    "train_len"
   ],
   "metadata": {
    "collapsed": false,
    "ExecuteTime": {
     "end_time": "2023-08-15T08:13:46.227640Z",
     "start_time": "2023-08-15T08:04:03.077437Z"
    }
   }
  },
  {
   "cell_type": "code",
   "execution_count": 5,
   "outputs": [
    {
     "data": {
      "text/plain": "    index            id  click                hour    C1  banner_pos  \\\n0  433572  7.582956e+18      1 2014-10-21 02:00:00  1005           0   \n1  254298  9.742865e+17      0 2014-10-21 01:00:00  1005           0   \n\n    site_id site_domain site_category    app_id  ... C16   C17 C18  C19  \\\n0  85f751fd    c4e18dd6      50e219e0  9c13b419  ...  50  2201   3   35   \n1  85f751fd    c4e18dd6      50e219e0  9f06e9a1  ...  50  2480   3  297   \n\n      C20  C21  month  dayofweek  day  hour_time  \n0      -1   43     10          1   21          2  \n1  100111   61     10          1   21          1  \n\n[2 rows x 29 columns]",
      "text/html": "<div>\n<style scoped>\n    .dataframe tbody tr th:only-of-type {\n        vertical-align: middle;\n    }\n\n    .dataframe tbody tr th {\n        vertical-align: top;\n    }\n\n    .dataframe thead th {\n        text-align: right;\n    }\n</style>\n<table border=\"1\" class=\"dataframe\">\n  <thead>\n    <tr style=\"text-align: right;\">\n      <th></th>\n      <th>index</th>\n      <th>id</th>\n      <th>click</th>\n      <th>hour</th>\n      <th>C1</th>\n      <th>banner_pos</th>\n      <th>site_id</th>\n      <th>site_domain</th>\n      <th>site_category</th>\n      <th>app_id</th>\n      <th>...</th>\n      <th>C16</th>\n      <th>C17</th>\n      <th>C18</th>\n      <th>C19</th>\n      <th>C20</th>\n      <th>C21</th>\n      <th>month</th>\n      <th>dayofweek</th>\n      <th>day</th>\n      <th>hour_time</th>\n    </tr>\n  </thead>\n  <tbody>\n    <tr>\n      <th>0</th>\n      <td>433572</td>\n      <td>7.582956e+18</td>\n      <td>1</td>\n      <td>2014-10-21 02:00:00</td>\n      <td>1005</td>\n      <td>0</td>\n      <td>85f751fd</td>\n      <td>c4e18dd6</td>\n      <td>50e219e0</td>\n      <td>9c13b419</td>\n      <td>...</td>\n      <td>50</td>\n      <td>2201</td>\n      <td>3</td>\n      <td>35</td>\n      <td>-1</td>\n      <td>43</td>\n      <td>10</td>\n      <td>1</td>\n      <td>21</td>\n      <td>2</td>\n    </tr>\n    <tr>\n      <th>1</th>\n      <td>254298</td>\n      <td>9.742865e+17</td>\n      <td>0</td>\n      <td>2014-10-21 01:00:00</td>\n      <td>1005</td>\n      <td>0</td>\n      <td>85f751fd</td>\n      <td>c4e18dd6</td>\n      <td>50e219e0</td>\n      <td>9f06e9a1</td>\n      <td>...</td>\n      <td>50</td>\n      <td>2480</td>\n      <td>3</td>\n      <td>297</td>\n      <td>100111</td>\n      <td>61</td>\n      <td>10</td>\n      <td>1</td>\n      <td>21</td>\n      <td>1</td>\n    </tr>\n  </tbody>\n</table>\n<p>2 rows × 29 columns</p>\n</div>"
     },
     "execution_count": 5,
     "metadata": {},
     "output_type": "execute_result"
    }
   ],
   "source": [
    "train['month'] = train['hour'].dt.month\n",
    "train['dayofweek'] = train['hour'].dt.dayofweek\n",
    "train['day'] = train['hour'].dt.day\n",
    "train['hour_time'] = train['hour'].dt.hour\n",
    "train.head(2)"
   ],
   "metadata": {
    "collapsed": false,
    "ExecuteTime": {
     "end_time": "2023-08-15T08:17:02.639100Z",
     "start_time": "2023-08-15T08:16:58.196817Z"
    }
   }
  },
  {
   "cell_type": "code",
   "execution_count": 6,
   "outputs": [
    {
     "name": "stdout",
     "output_type": "stream",
     "text": [
      "<class 'pandas.core.frame.DataFrame'>\n",
      "RangeIndex: 20214484 entries, 0 to 20214483\n",
      "Data columns (total 29 columns):\n",
      " #   Column            Dtype         \n",
      "---  ------            -----         \n",
      " 0   index             int64         \n",
      " 1   id                float64       \n",
      " 2   click             int64         \n",
      " 3   hour              datetime64[ns]\n",
      " 4   C1                int64         \n",
      " 5   banner_pos        int64         \n",
      " 6   site_id           object        \n",
      " 7   site_domain       object        \n",
      " 8   site_category     object        \n",
      " 9   app_id            object        \n",
      " 10  app_domain        object        \n",
      " 11  app_category      object        \n",
      " 12  device_id         object        \n",
      " 13  device_ip         object        \n",
      " 14  device_model      object        \n",
      " 15  device_type       int64         \n",
      " 16  device_conn_type  int64         \n",
      " 17  C14               int64         \n",
      " 18  C15               int64         \n",
      " 19  C16               int64         \n",
      " 20  C17               int64         \n",
      " 21  C18               int64         \n",
      " 22  C19               int64         \n",
      " 23  C20               int64         \n",
      " 24  C21               int64         \n",
      " 25  month             int64         \n",
      " 26  dayofweek         int64         \n",
      " 27  day               int64         \n",
      " 28  hour_time         int64         \n",
      "dtypes: datetime64[ns](1), float64(1), int64(18), object(9)\n",
      "memory usage: 4.4+ GB\n"
     ]
    }
   ],
   "source": [
    "train.info()"
   ],
   "metadata": {
    "collapsed": false,
    "ExecuteTime": {
     "end_time": "2023-08-15T08:17:20.685886Z",
     "start_time": "2023-08-15T08:17:20.578915Z"
    }
   }
  },
  {
   "cell_type": "code",
   "execution_count": 7,
   "outputs": [
    {
     "data": {
      "text/plain": "index               0\nid                  0\nclick               0\nhour                0\nC1                  0\nbanner_pos          0\nsite_id             0\nsite_domain         0\nsite_category       0\napp_id              0\napp_domain          0\napp_category        0\ndevice_id           0\ndevice_ip           0\ndevice_model        0\ndevice_type         0\ndevice_conn_type    0\nC14                 0\nC15                 0\nC16                 0\nC17                 0\nC18                 0\nC19                 0\nC20                 0\nC21                 0\nmonth               0\ndayofweek           0\nday                 0\nhour_time           0\ndtype: int64"
     },
     "execution_count": 7,
     "metadata": {},
     "output_type": "execute_result"
    }
   ],
   "source": [
    "train.isnull().sum()"
   ],
   "metadata": {
    "collapsed": false,
    "ExecuteTime": {
     "end_time": "2023-08-15T08:17:59.197014Z",
     "start_time": "2023-08-15T08:17:20.695949Z"
    }
   }
  },
  {
   "cell_type": "code",
   "execution_count": 8,
   "outputs": [
    {
     "data": {
      "text/plain": "              index            id         click            C1    banner_pos  \\\ncount  2.021448e+07  2.021448e+07  2.021448e+07  2.021448e+07  2.021448e+07   \nmean   2.021419e+07  9.223368e+18  1.698491e-01  1.004968e+03  2.879966e-01   \nstd    1.167084e+07  5.325717e+18  3.755001e-01  1.094567e+00  5.063878e-01   \nmin    0.000000e+00  5.211594e+11  0.000000e+00  1.001000e+03  0.000000e+00   \n25%    1.010699e+07  4.611100e+18  0.000000e+00  1.005000e+03  0.000000e+00   \n50%    2.021422e+07  9.224303e+18  0.000000e+00  1.005000e+03  0.000000e+00   \n75%    3.032112e+07  1.383729e+19  0.000000e+00  1.005000e+03  1.000000e+00   \nmax    4.042897e+07  1.844674e+19  1.000000e+00  1.012000e+03  7.000000e+00   \n\n        device_type  device_conn_type           C14           C15  \\\ncount  2.021448e+07      2.021448e+07  2.021448e+07  2.021448e+07   \nmean   1.015290e+00      3.314826e-01  1.884226e+04  3.188872e+02   \nstd    5.275321e-01      8.549997e-01  4.958358e+03  2.131245e+01   \nmin    0.000000e+00      0.000000e+00  3.750000e+02  1.200000e+02   \n25%    1.000000e+00      0.000000e+00  1.692000e+04  3.200000e+02   \n50%    1.000000e+00      0.000000e+00  2.034600e+04  3.200000e+02   \n75%    1.000000e+00      0.000000e+00  2.189400e+04  3.200000e+02   \nmax    5.000000e+00      5.000000e+00  2.405200e+04  1.024000e+03   \n\n                C16           C17           C18           C19           C20  \\\ncount  2.021448e+07  2.021448e+07  2.021448e+07  2.021448e+07  2.021448e+07   \nmean   6.009537e+01  2.112627e+03  1.432316e+00  2.270870e+02  5.320581e+04   \nstd    4.728170e+01  6.093306e+02  1.326297e+00  3.509372e+02  4.995752e+04   \nmin    2.000000e+01  1.120000e+02  0.000000e+00  3.300000e+01 -1.000000e+00   \n25%    5.000000e+01  1.863000e+03  0.000000e+00  3.500000e+01 -1.000000e+00   \n50%    5.000000e+01  2.323000e+03  2.000000e+00  3.900000e+01  1.000480e+05   \n75%    5.000000e+01  2.526000e+03  3.000000e+00  1.710000e+02  1.000930e+05   \nmax    1.024000e+03  2.758000e+03  3.000000e+00  1.959000e+03  1.002480e+05   \n\n                C21       month     dayofweek           day     hour_time  \ncount  2.021448e+07  20214484.0  2.021448e+07  2.021448e+07  2.021448e+07  \nmean   8.339376e+01        10.0  2.601778e+00  2.546971e+01  1.127634e+01  \nstd    7.029398e+01         0.0  1.728107e+00  2.963312e+00  5.953236e+00  \nmin    1.000000e+00        10.0  0.000000e+00  2.100000e+01  0.000000e+00  \n25%    2.300000e+01        10.0  1.000000e+00  2.300000e+01  6.000000e+00  \n50%    6.100000e+01        10.0  2.000000e+00  2.600000e+01  1.100000e+01  \n75%    1.010000e+02        10.0  4.000000e+00  2.800000e+01  1.600000e+01  \nmax    2.550000e+02        10.0  6.000000e+00  3.000000e+01  2.300000e+01  ",
      "text/html": "<div>\n<style scoped>\n    .dataframe tbody tr th:only-of-type {\n        vertical-align: middle;\n    }\n\n    .dataframe tbody tr th {\n        vertical-align: top;\n    }\n\n    .dataframe thead th {\n        text-align: right;\n    }\n</style>\n<table border=\"1\" class=\"dataframe\">\n  <thead>\n    <tr style=\"text-align: right;\">\n      <th></th>\n      <th>index</th>\n      <th>id</th>\n      <th>click</th>\n      <th>C1</th>\n      <th>banner_pos</th>\n      <th>device_type</th>\n      <th>device_conn_type</th>\n      <th>C14</th>\n      <th>C15</th>\n      <th>C16</th>\n      <th>C17</th>\n      <th>C18</th>\n      <th>C19</th>\n      <th>C20</th>\n      <th>C21</th>\n      <th>month</th>\n      <th>dayofweek</th>\n      <th>day</th>\n      <th>hour_time</th>\n    </tr>\n  </thead>\n  <tbody>\n    <tr>\n      <th>count</th>\n      <td>2.021448e+07</td>\n      <td>2.021448e+07</td>\n      <td>2.021448e+07</td>\n      <td>2.021448e+07</td>\n      <td>2.021448e+07</td>\n      <td>2.021448e+07</td>\n      <td>2.021448e+07</td>\n      <td>2.021448e+07</td>\n      <td>2.021448e+07</td>\n      <td>2.021448e+07</td>\n      <td>2.021448e+07</td>\n      <td>2.021448e+07</td>\n      <td>2.021448e+07</td>\n      <td>2.021448e+07</td>\n      <td>2.021448e+07</td>\n      <td>20214484.0</td>\n      <td>2.021448e+07</td>\n      <td>2.021448e+07</td>\n      <td>2.021448e+07</td>\n    </tr>\n    <tr>\n      <th>mean</th>\n      <td>2.021419e+07</td>\n      <td>9.223368e+18</td>\n      <td>1.698491e-01</td>\n      <td>1.004968e+03</td>\n      <td>2.879966e-01</td>\n      <td>1.015290e+00</td>\n      <td>3.314826e-01</td>\n      <td>1.884226e+04</td>\n      <td>3.188872e+02</td>\n      <td>6.009537e+01</td>\n      <td>2.112627e+03</td>\n      <td>1.432316e+00</td>\n      <td>2.270870e+02</td>\n      <td>5.320581e+04</td>\n      <td>8.339376e+01</td>\n      <td>10.0</td>\n      <td>2.601778e+00</td>\n      <td>2.546971e+01</td>\n      <td>1.127634e+01</td>\n    </tr>\n    <tr>\n      <th>std</th>\n      <td>1.167084e+07</td>\n      <td>5.325717e+18</td>\n      <td>3.755001e-01</td>\n      <td>1.094567e+00</td>\n      <td>5.063878e-01</td>\n      <td>5.275321e-01</td>\n      <td>8.549997e-01</td>\n      <td>4.958358e+03</td>\n      <td>2.131245e+01</td>\n      <td>4.728170e+01</td>\n      <td>6.093306e+02</td>\n      <td>1.326297e+00</td>\n      <td>3.509372e+02</td>\n      <td>4.995752e+04</td>\n      <td>7.029398e+01</td>\n      <td>0.0</td>\n      <td>1.728107e+00</td>\n      <td>2.963312e+00</td>\n      <td>5.953236e+00</td>\n    </tr>\n    <tr>\n      <th>min</th>\n      <td>0.000000e+00</td>\n      <td>5.211594e+11</td>\n      <td>0.000000e+00</td>\n      <td>1.001000e+03</td>\n      <td>0.000000e+00</td>\n      <td>0.000000e+00</td>\n      <td>0.000000e+00</td>\n      <td>3.750000e+02</td>\n      <td>1.200000e+02</td>\n      <td>2.000000e+01</td>\n      <td>1.120000e+02</td>\n      <td>0.000000e+00</td>\n      <td>3.300000e+01</td>\n      <td>-1.000000e+00</td>\n      <td>1.000000e+00</td>\n      <td>10.0</td>\n      <td>0.000000e+00</td>\n      <td>2.100000e+01</td>\n      <td>0.000000e+00</td>\n    </tr>\n    <tr>\n      <th>25%</th>\n      <td>1.010699e+07</td>\n      <td>4.611100e+18</td>\n      <td>0.000000e+00</td>\n      <td>1.005000e+03</td>\n      <td>0.000000e+00</td>\n      <td>1.000000e+00</td>\n      <td>0.000000e+00</td>\n      <td>1.692000e+04</td>\n      <td>3.200000e+02</td>\n      <td>5.000000e+01</td>\n      <td>1.863000e+03</td>\n      <td>0.000000e+00</td>\n      <td>3.500000e+01</td>\n      <td>-1.000000e+00</td>\n      <td>2.300000e+01</td>\n      <td>10.0</td>\n      <td>1.000000e+00</td>\n      <td>2.300000e+01</td>\n      <td>6.000000e+00</td>\n    </tr>\n    <tr>\n      <th>50%</th>\n      <td>2.021422e+07</td>\n      <td>9.224303e+18</td>\n      <td>0.000000e+00</td>\n      <td>1.005000e+03</td>\n      <td>0.000000e+00</td>\n      <td>1.000000e+00</td>\n      <td>0.000000e+00</td>\n      <td>2.034600e+04</td>\n      <td>3.200000e+02</td>\n      <td>5.000000e+01</td>\n      <td>2.323000e+03</td>\n      <td>2.000000e+00</td>\n      <td>3.900000e+01</td>\n      <td>1.000480e+05</td>\n      <td>6.100000e+01</td>\n      <td>10.0</td>\n      <td>2.000000e+00</td>\n      <td>2.600000e+01</td>\n      <td>1.100000e+01</td>\n    </tr>\n    <tr>\n      <th>75%</th>\n      <td>3.032112e+07</td>\n      <td>1.383729e+19</td>\n      <td>0.000000e+00</td>\n      <td>1.005000e+03</td>\n      <td>1.000000e+00</td>\n      <td>1.000000e+00</td>\n      <td>0.000000e+00</td>\n      <td>2.189400e+04</td>\n      <td>3.200000e+02</td>\n      <td>5.000000e+01</td>\n      <td>2.526000e+03</td>\n      <td>3.000000e+00</td>\n      <td>1.710000e+02</td>\n      <td>1.000930e+05</td>\n      <td>1.010000e+02</td>\n      <td>10.0</td>\n      <td>4.000000e+00</td>\n      <td>2.800000e+01</td>\n      <td>1.600000e+01</td>\n    </tr>\n    <tr>\n      <th>max</th>\n      <td>4.042897e+07</td>\n      <td>1.844674e+19</td>\n      <td>1.000000e+00</td>\n      <td>1.012000e+03</td>\n      <td>7.000000e+00</td>\n      <td>5.000000e+00</td>\n      <td>5.000000e+00</td>\n      <td>2.405200e+04</td>\n      <td>1.024000e+03</td>\n      <td>1.024000e+03</td>\n      <td>2.758000e+03</td>\n      <td>3.000000e+00</td>\n      <td>1.959000e+03</td>\n      <td>1.002480e+05</td>\n      <td>2.550000e+02</td>\n      <td>10.0</td>\n      <td>6.000000e+00</td>\n      <td>3.000000e+01</td>\n      <td>2.300000e+01</td>\n    </tr>\n  </tbody>\n</table>\n</div>"
     },
     "execution_count": 8,
     "metadata": {},
     "output_type": "execute_result"
    }
   ],
   "source": [
    "train.describe()"
   ],
   "metadata": {
    "collapsed": false,
    "ExecuteTime": {
     "end_time": "2023-08-15T08:18:37.095671Z",
     "start_time": "2023-08-15T08:17:59.200724Z"
    }
   }
  },
  {
   "cell_type": "code",
   "execution_count": 9,
   "outputs": [],
   "source": [
    "import seaborn as sns\n",
    "import matplotlib.pyplot as plt"
   ],
   "metadata": {
    "collapsed": false,
    "ExecuteTime": {
     "end_time": "2023-08-15T08:18:37.106487Z",
     "start_time": "2023-08-15T08:18:37.098860Z"
    }
   }
  },
  {
   "cell_type": "code",
   "execution_count": 10,
   "outputs": [
    {
     "name": "stdout",
     "output_type": "stream",
     "text": [
      "numerical columns =  ['index', 'id', 'click', 'hour', 'C1', 'banner_pos', 'device_type', 'device_conn_type', 'C14', 'C15', 'C16', 'C17', 'C18', 'C19', 'C20', 'C21', 'month', 'dayofweek', 'day', 'hour_time']\n",
      "\n",
      "categorical columns =  ['site_id', 'site_domain', 'site_category', 'app_id', 'app_domain', 'app_category', 'device_id', 'device_ip', 'device_model']\n"
     ]
    }
   ],
   "source": [
    "numerical = []\n",
    "categorical = []\n",
    "\n",
    "for col in train.columns:\n",
    "    if train[col].dtype == \"object\":\n",
    "        categorical.append(col)\n",
    "    else:\n",
    "        numerical.append(col)\n",
    "print(\"numerical columns = \", numerical)\n",
    "print(\"\\ncategorical columns = \", categorical)"
   ],
   "metadata": {
    "collapsed": false,
    "ExecuteTime": {
     "end_time": "2023-08-15T08:18:37.141357Z",
     "start_time": "2023-08-15T08:18:37.114657Z"
    }
   }
  },
  {
   "cell_type": "code",
   "execution_count": 11,
   "outputs": [
    {
     "data": {
      "text/plain": "<Axes: xlabel='click', ylabel='count'>"
     },
     "execution_count": 11,
     "metadata": {},
     "output_type": "execute_result"
    },
    {
     "data": {
      "text/plain": "<Figure size 640x480 with 1 Axes>",
      "image/png": "[encoded data removed]"
     },
     "metadata": {},
     "output_type": "display_data"
    }
   ],
   "source": [
    "train.click.value_counts(normalize=True)\n",
    "plt.figure()\n",
    "sns.countplot(x='click', data=train)\n"
   ],
   "metadata": {
    "collapsed": false,
    "ExecuteTime": {
     "end_time": "2023-08-15T08:18:40.130872Z",
     "start_time": "2023-08-15T08:18:37.490019Z"
    }
   }
  },
  {
   "cell_type": "code",
   "execution_count": 12,
   "outputs": [
    {
     "name": "stdout",
     "output_type": "stream",
     "text": [
      "Unique counts of site_id: 4359\n",
      "85f751fd    3.610485e-01\n",
      "1fbe01fe    1.604176e-01\n",
      "e151e245    6.526409e-02\n",
      "d9750ee7    2.382702e-02\n",
      "5b08c53b    2.260364e-02\n",
      "                ...     \n",
      "49a9cc1a    4.946948e-08\n",
      "56bddb22    4.946948e-08\n",
      "d3431e03    4.946948e-08\n",
      "b19b2131    4.946948e-08\n",
      "d0386648    4.946948e-08\n",
      "Name: site_id, Length: 4359, dtype: float64\n"
     ]
    }
   ],
   "source": [
    "print(f'Unique counts of site_id: {len(train.site_id.unique())}')\n",
    "print(train.site_id.value_counts(normalize=True))"
   ],
   "metadata": {
    "collapsed": false,
    "ExecuteTime": {
     "end_time": "2023-08-15T08:18:43.847016Z",
     "start_time": "2023-08-15T08:18:41.772356Z"
    }
   }
  },
  {
   "cell_type": "code",
   "execution_count": 13,
   "outputs": [
    {
     "name": "stdout",
     "output_type": "stream",
     "text": [
      "Unique counts of site_id: 6548\n",
      "c4e18dd6    3.743207e-01\n",
      "f3845767    1.604176e-01\n",
      "7e091613    8.225182e-02\n",
      "7687a86e    3.191642e-02\n",
      "98572c79    2.463976e-02\n",
      "                ...     \n",
      "06e58f11    4.946948e-08\n",
      "d45c0d84    4.946948e-08\n",
      "9bee0174    4.946948e-08\n",
      "9f316d76    4.946948e-08\n",
      "b553cb29    4.946948e-08\n",
      "Name: site_domain, Length: 6548, dtype: float64\n"
     ]
    }
   ],
   "source": [
    "print(f'Unique counts of site_id: {len(train.site_domain.unique())}')\n",
    "print(train.site_domain.value_counts(normalize=True))"
   ],
   "metadata": {
    "collapsed": false,
    "ExecuteTime": {
     "end_time": "2023-08-15T08:18:47.347824Z",
     "start_time": "2023-08-15T08:18:45.366379Z"
    }
   }
  },
  {
   "cell_type": "code",
   "execution_count": 14,
   "outputs": [
    {
     "name": "stdout",
     "output_type": "stream",
     "text": [
      "Unique counts of site_id: 25\n",
      "50e219e0    4.090785e-01\n",
      "f028772b    3.130846e-01\n",
      "28905ebd    1.824268e-01\n",
      "3e814130    7.544763e-02\n",
      "f66779e6    6.244433e-03\n",
      "75fa27f6    3.982837e-03\n",
      "335d28a8    3.396772e-03\n",
      "76b2941d    2.589183e-03\n",
      "c0dd3be3    1.038711e-03\n",
      "72722551    6.929190e-04\n",
      "dedf689d    6.047149e-04\n",
      "70fb0e29    5.904677e-04\n",
      "0569f928    4.200948e-04\n",
      "8fd0aea4    1.852632e-04\n",
      "a818d37a    7.672716e-05\n",
      "42a36e14    6.144109e-05\n",
      "e787de0e    3.072055e-05\n",
      "bcf865d9    2.686193e-05\n",
      "5378d028    1.197161e-05\n",
      "9ccfa2ea    7.717239e-06\n",
      "c706e647    6.431032e-07\n",
      "da34532e    4.946948e-07\n",
      "74073276    2.473474e-07\n",
      "110ab22d    1.978779e-07\n",
      "a72a0145    4.946948e-08\n",
      "Name: site_category, dtype: float64\n"
     ]
    }
   ],
   "source": [
    "print(f'Unique counts of site_id: {len(train.site_category.unique())}')\n",
    "print(train.site_category.value_counts(normalize=True))"
   ],
   "metadata": {
    "collapsed": false,
    "ExecuteTime": {
     "end_time": "2023-08-15T08:18:49.761747Z",
     "start_time": "2023-08-15T08:18:48.407072Z"
    }
   }
  },
  {
   "cell_type": "code",
   "execution_count": 15,
   "outputs": [
    {
     "name": "stdout",
     "output_type": "stream",
     "text": [
      "Unique counts of site_id: 7444\n",
      "ecad2386    6.389515e-01\n",
      "92f5800b    3.850808e-02\n",
      "e2fcccd2    2.792889e-02\n",
      "9c13b419    1.880365e-02\n",
      "febd1138    1.873666e-02\n",
      "                ...     \n",
      "78cbeec7    4.946948e-08\n",
      "b4e1814d    4.946948e-08\n",
      "16b94ad4    4.946948e-08\n",
      "20b8415d    4.946948e-08\n",
      "f6c2f1c3    4.946948e-08\n",
      "Name: app_id, Length: 7444, dtype: float64\n"
     ]
    }
   ],
   "source": [
    "print(f'Unique counts of site_id: {len(train.app_id.unique())}')\n",
    "print(train.app_id.value_counts(normalize=True))"
   ],
   "metadata": {
    "collapsed": false,
    "ExecuteTime": {
     "end_time": "2023-08-15T08:18:52.928170Z",
     "start_time": "2023-08-15T08:18:50.423101Z"
    }
   }
  },
  {
   "cell_type": "code",
   "execution_count": 16,
   "outputs": [
    {
     "name": "stdout",
     "output_type": "stream",
     "text": [
      "Unique counts of site_id: 474\n",
      "7801e8d9    6.736789e-01\n",
      "2347f47a    1.295698e-01\n",
      "ae637522    4.658284e-02\n",
      "5c5a694b    2.793428e-02\n",
      "82e27996    1.873726e-02\n",
      "                ...     \n",
      "2ee4f367    4.946948e-08\n",
      "347bf088    4.946948e-08\n",
      "8e1c9078    4.946948e-08\n",
      "55cb48a1    4.946948e-08\n",
      "5ab4623d    4.946948e-08\n",
      "Name: app_domain, Length: 474, dtype: float64\n"
     ]
    }
   ],
   "source": [
    "print(f'Unique counts of site_id: {len(train.app_domain.unique())}')\n",
    "print(train.app_domain.value_counts(normalize=True))"
   ],
   "metadata": {
    "collapsed": false,
    "ExecuteTime": {
     "end_time": "2023-08-15T08:18:55.402385Z",
     "start_time": "2023-08-15T08:18:53.994276Z"
    }
   }
  },
  {
   "cell_type": "code",
   "execution_count": 17,
   "outputs": [
    {
     "name": "stdout",
     "output_type": "stream",
     "text": [
      "Unique counts of site_id: 33\n",
      "07d7df22    6.471884e-01\n",
      "0f2161f8    2.364550e-01\n",
      "cef3e649    4.282469e-02\n",
      "8ded1f7a    3.628497e-02\n",
      "f95efa07    2.831262e-02\n",
      "d1327cf5    3.026295e-03\n",
      "dc97ec06    1.360361e-03\n",
      "09481d60    1.352446e-03\n",
      "75d80bbe    9.996298e-04\n",
      "fc6fa53d    5.826021e-04\n",
      "4ce2e9fc    5.109703e-04\n",
      "879c24eb    3.147743e-04\n",
      "a3c42688    2.776227e-04\n",
      "4681bb9d    1.573624e-04\n",
      "0f9a328c    1.363379e-04\n",
      "a86a3e89    6.228207e-05\n",
      "2281a340    5.332810e-05\n",
      "8df2e842    4.318686e-05\n",
      "79f0b860    1.395039e-05\n",
      "0bfbc358    9.943365e-06\n",
      "a7fd01ec    8.953976e-06\n",
      "7113d72a    7.766708e-06\n",
      "18b1e0be    5.787929e-06\n",
      "2fc4f2aa    5.491112e-06\n",
      "5326cf99    3.660741e-06\n",
      "0d82db25    6.925727e-07\n",
      "4b7ade46    3.957558e-07\n",
      "bf8ac856    1.484084e-07\n",
      "bd41f328    9.893896e-08\n",
      "ef03ae90    9.893896e-08\n",
      "71af18ce    9.893896e-08\n",
      "86c1a5a3    4.946948e-08\n",
      "6fea3693    4.946948e-08\n",
      "Name: app_category, dtype: float64\n"
     ]
    }
   ],
   "source": [
    "print(f'Unique counts of site_id: {len(train.app_category.unique())}')\n",
    "print(train.app_category.value_counts(normalize=True))"
   ],
   "metadata": {
    "collapsed": false,
    "ExecuteTime": {
     "end_time": "2023-08-15T08:18:57.802309Z",
     "start_time": "2023-08-15T08:18:56.448811Z"
    }
   }
  },
  {
   "cell_type": "code",
   "execution_count": 18,
   "outputs": [
    {
     "name": "stdout",
     "output_type": "stream",
     "text": [
      "Unique counts of site_id: 1701617\n",
      "a99f214a    8.250772e-01\n",
      "0f7c61dc    5.317474e-04\n",
      "c357dbff    4.869281e-04\n",
      "936e92fb    3.407458e-04\n",
      "afeffc18    2.359199e-04\n",
      "                ...     \n",
      "050f03b0    4.946948e-08\n",
      "67045272    4.946948e-08\n",
      "5fe99dee    4.946948e-08\n",
      "c22ad887    4.946948e-08\n",
      "c89e90cc    4.946948e-08\n",
      "Name: device_id, Length: 1701617, dtype: float64\n"
     ]
    }
   ],
   "source": [
    "print(f'Unique counts of site_id: {len(train.device_id.unique())}')\n",
    "print(train.device_id.value_counts(normalize=True))"
   ],
   "metadata": {
    "collapsed": false,
    "ExecuteTime": {
     "end_time": "2023-08-15T08:19:07.003468Z",
     "start_time": "2023-08-15T08:19:00.483905Z"
    }
   }
  },
  {
   "cell_type": "code",
   "execution_count": 19,
   "outputs": [
    {
     "name": "stdout",
     "output_type": "stream",
     "text": [
      "Unique counts of site_id: 4660174\n",
      "6b9769f2    5.175349e-03\n",
      "431b3174    3.354229e-03\n",
      "2f323f36    2.188134e-03\n",
      "af9205f9    2.172353e-03\n",
      "930ec31d    2.156276e-03\n",
      "                ...     \n",
      "cd4edb7e    4.946948e-08\n",
      "866e2253    4.946948e-08\n",
      "8a64fcfe    4.946948e-08\n",
      "f60a6f16    4.946948e-08\n",
      "be7567f2    4.946948e-08\n",
      "Name: device_ip, Length: 4660174, dtype: float64\n"
     ]
    }
   ],
   "source": [
    "print(f'Unique counts of site_id: {len(train.device_ip.unique())}')\n",
    "print(train.device_ip.value_counts(normalize=True))"
   ],
   "metadata": {
    "collapsed": false,
    "ExecuteTime": {
     "end_time": "2023-08-15T08:19:37.786649Z",
     "start_time": "2023-08-15T08:19:10.815028Z"
    }
   }
  },
  {
   "cell_type": "code",
   "execution_count": 20,
   "outputs": [
    {
     "name": "stdout",
     "output_type": "stream",
     "text": [
      "Unique counts of site_id: 7692\n",
      "8a4875bd    6.074174e-02\n",
      "1f0bc64f    3.523291e-02\n",
      "d787e91b    3.476389e-02\n",
      "76dc4769    1.898490e-02\n",
      "be6db1d7    1.837484e-02\n",
      "                ...     \n",
      "772ea7a3    4.946948e-08\n",
      "42de30d9    4.946948e-08\n",
      "4d328265    4.946948e-08\n",
      "ab9ef912    4.946948e-08\n",
      "cd44b12b    4.946948e-08\n",
      "Name: device_model, Length: 7692, dtype: float64\n"
     ]
    }
   ],
   "source": [
    "print(f'Unique counts of site_id: {len(train.device_model.unique())}')\n",
    "print(train.device_model.value_counts(normalize=True))"
   ],
   "metadata": {
    "collapsed": false,
    "ExecuteTime": {
     "end_time": "2023-08-15T08:19:43.300498Z",
     "start_time": "2023-08-15T08:19:39.572824Z"
    }
   }
  },
  {
   "cell_type": "code",
   "execution_count": 21,
   "outputs": [
    {
     "ename": "KeyboardInterrupt",
     "evalue": "",
     "output_type": "error",
     "traceback": [
      "\u001B[0;31m---------------------------------------------------------------------------\u001B[0m",
      "\u001B[0;31mKeyboardInterrupt\u001B[0m                         Traceback (most recent call last)",
      "Cell \u001B[0;32mIn[21], line 7\u001B[0m\n\u001B[1;32m      5\u001B[0m \u001B[38;5;28;01mfor\u001B[39;00m i \u001B[38;5;129;01min\u001B[39;00m \u001B[38;5;28mrange\u001B[39m(\u001B[38;5;28mlen\u001B[39m(numerical)):\n\u001B[1;32m      6\u001B[0m     plt\u001B[38;5;241m.\u001B[39msubplot(math\u001B[38;5;241m.\u001B[39mceil(\u001B[38;5;28mlen\u001B[39m(numerical)\u001B[38;5;241m/\u001B[39mn),n,i\u001B[38;5;241m+\u001B[39m\u001B[38;5;241m1\u001B[39m)\n\u001B[0;32m----> 7\u001B[0m     sns\u001B[38;5;241m.\u001B[39mhistplot(train[numerical[i]])\n\u001B[1;32m      9\u001B[0m plt\u001B[38;5;241m.\u001B[39mtight_layout()\n\u001B[1;32m     10\u001B[0m plt\u001B[38;5;241m.\u001B[39mshow()\n",
      "File \u001B[0;32m~/miniconda3/envs/test/lib/python3.11/site-packages/seaborn/distributions.py:1395\u001B[0m, in \u001B[0;36mhistplot\u001B[0;34m(data, x, y, hue, weights, stat, bins, binwidth, binrange, discrete, cumulative, common_bins, common_norm, multiple, element, fill, shrink, kde, kde_kws, line_kws, thresh, pthresh, pmax, cbar, cbar_ax, cbar_kws, palette, hue_order, hue_norm, color, log_scale, legend, ax, **kwargs)\u001B[0m\n\u001B[1;32m   1374\u001B[0m \u001B[38;5;28;01mdef\u001B[39;00m \u001B[38;5;21mhistplot\u001B[39m(\n\u001B[1;32m   1375\u001B[0m     data\u001B[38;5;241m=\u001B[39m\u001B[38;5;28;01mNone\u001B[39;00m, \u001B[38;5;241m*\u001B[39m,\n\u001B[1;32m   1376\u001B[0m     \u001B[38;5;66;03m# Vector variables\u001B[39;00m\n\u001B[0;32m   (...)\u001B[0m\n\u001B[1;32m   1392\u001B[0m     \u001B[38;5;241m*\u001B[39m\u001B[38;5;241m*\u001B[39mkwargs,\n\u001B[1;32m   1393\u001B[0m ):\n\u001B[0;32m-> 1395\u001B[0m     p \u001B[38;5;241m=\u001B[39m _DistributionPlotter(\n\u001B[1;32m   1396\u001B[0m         data\u001B[38;5;241m=\u001B[39mdata,\n\u001B[1;32m   1397\u001B[0m         variables\u001B[38;5;241m=\u001B[39m_DistributionPlotter\u001B[38;5;241m.\u001B[39mget_semantics(\u001B[38;5;28mlocals\u001B[39m())\n\u001B[1;32m   1398\u001B[0m     )\n\u001B[1;32m   1400\u001B[0m     p\u001B[38;5;241m.\u001B[39mmap_hue(palette\u001B[38;5;241m=\u001B[39mpalette, order\u001B[38;5;241m=\u001B[39mhue_order, norm\u001B[38;5;241m=\u001B[39mhue_norm)\n\u001B[1;32m   1402\u001B[0m     \u001B[38;5;28;01mif\u001B[39;00m ax \u001B[38;5;129;01mis\u001B[39;00m \u001B[38;5;28;01mNone\u001B[39;00m:\n",
      "File \u001B[0;32m~/miniconda3/envs/test/lib/python3.11/site-packages/seaborn/distributions.py:113\u001B[0m, in \u001B[0;36m_DistributionPlotter.__init__\u001B[0;34m(self, data, variables)\u001B[0m\n\u001B[1;32m    107\u001B[0m \u001B[38;5;28;01mdef\u001B[39;00m \u001B[38;5;21m__init__\u001B[39m(\n\u001B[1;32m    108\u001B[0m     \u001B[38;5;28mself\u001B[39m,\n\u001B[1;32m    109\u001B[0m     data\u001B[38;5;241m=\u001B[39m\u001B[38;5;28;01mNone\u001B[39;00m,\n\u001B[1;32m    110\u001B[0m     variables\u001B[38;5;241m=\u001B[39m{},\n\u001B[1;32m    111\u001B[0m ):\n\u001B[0;32m--> 113\u001B[0m     \u001B[38;5;28msuper\u001B[39m()\u001B[38;5;241m.\u001B[39m\u001B[38;5;21m__init__\u001B[39m(data\u001B[38;5;241m=\u001B[39mdata, variables\u001B[38;5;241m=\u001B[39mvariables)\n",
      "File \u001B[0;32m~/miniconda3/envs/test/lib/python3.11/site-packages/seaborn/_oldcore.py:640\u001B[0m, in \u001B[0;36mVectorPlotter.__init__\u001B[0;34m(self, data, variables)\u001B[0m\n\u001B[1;32m    635\u001B[0m \u001B[38;5;66;03m# var_ordered is relevant only for categorical axis variables, and may\u001B[39;00m\n\u001B[1;32m    636\u001B[0m \u001B[38;5;66;03m# be better handled by an internal axis information object that tracks\u001B[39;00m\n\u001B[1;32m    637\u001B[0m \u001B[38;5;66;03m# such information and is set up by the scale_* methods. The analogous\u001B[39;00m\n\u001B[1;32m    638\u001B[0m \u001B[38;5;66;03m# information for numeric axes would be information about log scales.\u001B[39;00m\n\u001B[1;32m    639\u001B[0m \u001B[38;5;28mself\u001B[39m\u001B[38;5;241m.\u001B[39m_var_ordered \u001B[38;5;241m=\u001B[39m {\u001B[38;5;124m\"\u001B[39m\u001B[38;5;124mx\u001B[39m\u001B[38;5;124m\"\u001B[39m: \u001B[38;5;28;01mFalse\u001B[39;00m, \u001B[38;5;124m\"\u001B[39m\u001B[38;5;124my\u001B[39m\u001B[38;5;124m\"\u001B[39m: \u001B[38;5;28;01mFalse\u001B[39;00m}  \u001B[38;5;66;03m# alt., used DefaultDict\u001B[39;00m\n\u001B[0;32m--> 640\u001B[0m \u001B[38;5;28mself\u001B[39m\u001B[38;5;241m.\u001B[39massign_variables(data, variables)\n\u001B[1;32m    642\u001B[0m \u001B[38;5;28;01mfor\u001B[39;00m var, \u001B[38;5;28mcls\u001B[39m \u001B[38;5;129;01min\u001B[39;00m \u001B[38;5;28mself\u001B[39m\u001B[38;5;241m.\u001B[39m_semantic_mappings\u001B[38;5;241m.\u001B[39mitems():\n\u001B[1;32m    643\u001B[0m \n\u001B[1;32m    644\u001B[0m     \u001B[38;5;66;03m# Create the mapping function\u001B[39;00m\n\u001B[1;32m    645\u001B[0m     map_func \u001B[38;5;241m=\u001B[39m partial(\u001B[38;5;28mcls\u001B[39m\u001B[38;5;241m.\u001B[39mmap, plotter\u001B[38;5;241m=\u001B[39m\u001B[38;5;28mself\u001B[39m)\n",
      "File \u001B[0;32m~/miniconda3/envs/test/lib/python3.11/site-packages/seaborn/_oldcore.py:696\u001B[0m, in \u001B[0;36mVectorPlotter.assign_variables\u001B[0;34m(self, data, variables)\u001B[0m\n\u001B[1;32m    694\u001B[0m \u001B[38;5;28;01mif\u001B[39;00m x \u001B[38;5;129;01mis\u001B[39;00m \u001B[38;5;28;01mNone\u001B[39;00m \u001B[38;5;129;01mand\u001B[39;00m y \u001B[38;5;129;01mis\u001B[39;00m \u001B[38;5;28;01mNone\u001B[39;00m:\n\u001B[1;32m    695\u001B[0m     \u001B[38;5;28mself\u001B[39m\u001B[38;5;241m.\u001B[39minput_format \u001B[38;5;241m=\u001B[39m \u001B[38;5;124m\"\u001B[39m\u001B[38;5;124mwide\u001B[39m\u001B[38;5;124m\"\u001B[39m\n\u001B[0;32m--> 696\u001B[0m     plot_data, variables \u001B[38;5;241m=\u001B[39m \u001B[38;5;28mself\u001B[39m\u001B[38;5;241m.\u001B[39m_assign_variables_wideform(\n\u001B[1;32m    697\u001B[0m         data, \u001B[38;5;241m*\u001B[39m\u001B[38;5;241m*\u001B[39mvariables,\n\u001B[1;32m    698\u001B[0m     )\n\u001B[1;32m    699\u001B[0m \u001B[38;5;28;01melse\u001B[39;00m:\n\u001B[1;32m    700\u001B[0m     \u001B[38;5;28mself\u001B[39m\u001B[38;5;241m.\u001B[39minput_format \u001B[38;5;241m=\u001B[39m \u001B[38;5;124m\"\u001B[39m\u001B[38;5;124mlong\u001B[39m\u001B[38;5;124m\"\u001B[39m\n",
      "File \u001B[0;32m~/miniconda3/envs/test/lib/python3.11/site-packages/seaborn/_oldcore.py:755\u001B[0m, in \u001B[0;36mVectorPlotter._assign_variables_wideform\u001B[0;34m(self, data, **kwargs)\u001B[0m\n\u001B[1;32m    753\u001B[0m \u001B[38;5;28;01melse\u001B[39;00m:\n\u001B[1;32m    754\u001B[0m     values \u001B[38;5;241m=\u001B[39m np\u001B[38;5;241m.\u001B[39matleast_1d(np\u001B[38;5;241m.\u001B[39masarray(data, dtype\u001B[38;5;241m=\u001B[39m\u001B[38;5;28mobject\u001B[39m))\n\u001B[0;32m--> 755\u001B[0m flat \u001B[38;5;241m=\u001B[39m \u001B[38;5;129;01mnot\u001B[39;00m \u001B[38;5;28many\u001B[39m(\n\u001B[1;32m    756\u001B[0m     \u001B[38;5;28misinstance\u001B[39m(v, Iterable) \u001B[38;5;129;01mand\u001B[39;00m \u001B[38;5;129;01mnot\u001B[39;00m \u001B[38;5;28misinstance\u001B[39m(v, (\u001B[38;5;28mstr\u001B[39m, \u001B[38;5;28mbytes\u001B[39m))\n\u001B[1;32m    757\u001B[0m     \u001B[38;5;28;01mfor\u001B[39;00m v \u001B[38;5;129;01min\u001B[39;00m values\n\u001B[1;32m    758\u001B[0m )\n\u001B[1;32m    760\u001B[0m \u001B[38;5;28;01mif\u001B[39;00m empty:\n\u001B[1;32m    761\u001B[0m \n\u001B[1;32m    762\u001B[0m     \u001B[38;5;66;03m# Make an object with the structure of plot_data, but empty\u001B[39;00m\n\u001B[1;32m    763\u001B[0m     plot_data \u001B[38;5;241m=\u001B[39m pd\u001B[38;5;241m.\u001B[39mDataFrame()\n",
      "File \u001B[0;32m~/miniconda3/envs/test/lib/python3.11/site-packages/seaborn/_oldcore.py:756\u001B[0m, in \u001B[0;36m<genexpr>\u001B[0;34m(.0)\u001B[0m\n\u001B[1;32m    753\u001B[0m \u001B[38;5;28;01melse\u001B[39;00m:\n\u001B[1;32m    754\u001B[0m     values \u001B[38;5;241m=\u001B[39m np\u001B[38;5;241m.\u001B[39matleast_1d(np\u001B[38;5;241m.\u001B[39masarray(data, dtype\u001B[38;5;241m=\u001B[39m\u001B[38;5;28mobject\u001B[39m))\n\u001B[1;32m    755\u001B[0m flat \u001B[38;5;241m=\u001B[39m \u001B[38;5;129;01mnot\u001B[39;00m \u001B[38;5;28many\u001B[39m(\n\u001B[0;32m--> 756\u001B[0m     \u001B[38;5;28misinstance\u001B[39m(v, Iterable) \u001B[38;5;129;01mand\u001B[39;00m \u001B[38;5;129;01mnot\u001B[39;00m \u001B[38;5;28misinstance\u001B[39m(v, (\u001B[38;5;28mstr\u001B[39m, \u001B[38;5;28mbytes\u001B[39m))\n\u001B[1;32m    757\u001B[0m     \u001B[38;5;28;01mfor\u001B[39;00m v \u001B[38;5;129;01min\u001B[39;00m values\n\u001B[1;32m    758\u001B[0m )\n\u001B[1;32m    760\u001B[0m \u001B[38;5;28;01mif\u001B[39;00m empty:\n\u001B[1;32m    761\u001B[0m \n\u001B[1;32m    762\u001B[0m     \u001B[38;5;66;03m# Make an object with the structure of plot_data, but empty\u001B[39;00m\n\u001B[1;32m    763\u001B[0m     plot_data \u001B[38;5;241m=\u001B[39m pd\u001B[38;5;241m.\u001B[39mDataFrame()\n",
      "File \u001B[0;32m<frozen abc>:119\u001B[0m, in \u001B[0;36m__instancecheck__\u001B[0;34m(cls, instance)\u001B[0m\n",
      "\u001B[0;31mKeyboardInterrupt\u001B[0m: "
     ]
    },
    {
     "data": {
      "text/plain": "<Figure size 1500x3000 with 4 Axes>",
      "image/png": "[encoded data removed]"
     },
     "metadata": {},
     "output_type": "display_data"
    }
   ],
   "source": [
    "import math\n",
    "n = 2\n",
    "plt.figure(figsize=[15,3*math.ceil(len(numerical)/n)])\n",
    "\n",
    "for i in range(len(numerical)):\n",
    "    plt.subplot(math.ceil(len(numerical)/n),n,i+1)\n",
    "    sns.histplot(train[numerical[i]])\n",
    "\n",
    "plt.tight_layout()\n",
    "plt.show()"
   ],
   "metadata": {
    "collapsed": false,
    "ExecuteTime": {
     "end_time": "2023-08-15T08:21:28.478180Z",
     "start_time": "2023-08-15T08:19:43.309561Z"
    }
   }
  },
  {
   "cell_type": "code",
   "execution_count": null,
   "outputs": [],
   "source": [
    "fig, ax = plt.subplots(figsize=(20,15))         # Sample figsize in inches\n",
    "correlation = train.corr()\n",
    "sns.heatmap(correlation, annot=True, linewidths=.5, ax=ax)"
   ],
   "metadata": {
    "collapsed": false
   }
  },
  {
   "cell_type": "code",
   "execution_count": 22,
   "outputs": [
    {
     "data": {
      "text/plain": "Index(['index', 'id', 'click', 'hour', 'C1', 'banner_pos', 'site_id',\n       'site_domain', 'site_category', 'app_id', 'app_domain', 'app_category',\n       'device_id', 'device_ip', 'device_model', 'device_type',\n       'device_conn_type', 'C14', 'C15', 'C16', 'C17', 'C18', 'C19', 'C21',\n       'dayofweek', 'day', 'hour_time'],\n      dtype='object')"
     },
     "execution_count": 22,
     "metadata": {},
     "output_type": "execute_result"
    }
   ],
   "source": [
    "train.drop(['month', 'C20'], axis=1, inplace=True)\n",
    "train.columns"
   ],
   "metadata": {
    "collapsed": false,
    "ExecuteTime": {
     "end_time": "2023-08-15T08:22:02.161067Z",
     "start_time": "2023-08-15T08:21:49.869891Z"
    }
   }
  },
  {
   "cell_type": "code",
   "execution_count": 23,
   "outputs": [
    {
     "data": {
      "text/plain": "Index(['index', 'y', 'C1', 'banner_pos', 'site_id', 'site_domain',\n       'site_category', 'app_id', 'app_domain', 'app_category', 'device_id',\n       'device_ip', 'device_model', 'device_type', 'device_conn_type', 'C14',\n       'C15', 'C16', 'C17', 'C18', 'C19', 'C21', 'dayofweek', 'day', 'hour'],\n      dtype='object')"
     },
     "execution_count": 23,
     "metadata": {},
     "output_type": "execute_result"
    }
   ],
   "source": [
    "train.drop(['id', 'hour'], axis = 1, inplace = True)\n",
    "train.rename(columns={'click': 'y',\n",
    "                   'hour_time': 'hour'},\n",
    "          inplace=True, errors='raise')\n",
    "\n",
    "train.columns"
   ],
   "metadata": {
    "collapsed": false,
    "ExecuteTime": {
     "end_time": "2023-08-15T08:22:37.994894Z",
     "start_time": "2023-08-15T08:22:35.703288Z"
    }
   }
  },
  {
   "cell_type": "code",
   "execution_count": 24,
   "outputs": [],
   "source": [
    "sampled_data = train.sample(frac=0.1, random_state=42)\n",
    "X = sampled_data.drop(['y'], axis=1)\n",
    "y = sampled_data['y']"
   ],
   "metadata": {
    "collapsed": false,
    "ExecuteTime": {
     "end_time": "2023-08-15T08:23:05.465916Z",
     "start_time": "2023-08-15T08:22:52.299878Z"
    }
   }
  },
  {
   "cell_type": "code",
   "execution_count": null,
   "outputs": [],
   "source": [
    "X.shape"
   ],
   "metadata": {
    "collapsed": false
   }
  },
  {
   "cell_type": "code",
   "execution_count": 25,
   "outputs": [],
   "source": [
    "X.to_csv('../data/output/X_train.csv', index=False)\n",
    "y.to_csv('../data/output/y_train.csv', index=False)"
   ],
   "metadata": {
    "collapsed": false,
    "ExecuteTime": {
     "end_time": "2023-08-15T08:23:45.783780Z",
     "start_time": "2023-08-15T08:23:24.257612Z"
    }
   }
  },
  {
   "cell_type": "code",
   "execution_count": null,
   "outputs": [],
   "source": [],
   "metadata": {
    "collapsed": false
   }
  }
 ],
 "metadata": {
  "kernelspec": {
   "display_name": "Python 3",
   "language": "python",
   "name": "python3"
  },
  "language_info": {
   "codemirror_mode": {
    "name": "ipython",
    "version": 2
   },
   "file_extension": ".py",
   "mimetype": "text/x-python",
   "name": "python",
   "nbconvert_exporter": "python",
   "pygments_lexer": "ipython2",
   "version": "2.7.6"
  }
 },
 "nbformat": 4,
 "nbformat_minor": 0
}
