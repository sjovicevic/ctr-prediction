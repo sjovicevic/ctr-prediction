{
 "cells": [
  {
   "cell_type": "code",
   "execution_count": 20,
   "metadata": {
    "collapsed": true,
    "ExecuteTime": {
     "end_time": "2023-08-07T20:42:05.630965876Z",
     "start_time": "2023-08-07T20:42:05.594079676Z"
    }
   },
   "outputs": [
    {
     "name": "stdout",
     "output_type": "stream",
     "text": [
      "The autoreload extension is already loaded. To reload it, use:\n",
      "  %reload_ext autoreload\n"
     ]
    }
   ],
   "source": [
    "%load_ext autoreload\n",
    "%autoreload 2\n",
    "import pandas as pd"
   ]
  },
  {
   "cell_type": "code",
   "execution_count": 21,
   "outputs": [],
   "source": [
    "X_train = pd.read_csv('../data/input/X_train.csv')\n",
    "y_train = pd.read_csv('../data/input/y_train.csv')"
   ],
   "metadata": {
    "collapsed": false,
    "ExecuteTime": {
     "end_time": "2023-08-07T20:42:09.829696244Z",
     "start_time": "2023-08-07T20:42:06.009147866Z"
    }
   }
  },
  {
   "cell_type": "code",
   "execution_count": 22,
   "outputs": [
    {
     "data": {
      "text/plain": "(2021448, 24)"
     },
     "execution_count": 22,
     "metadata": {},
     "output_type": "execute_result"
    }
   ],
   "source": [
    "X_train.shape"
   ],
   "metadata": {
    "collapsed": false,
    "ExecuteTime": {
     "end_time": "2023-08-07T20:42:12.892131520Z",
     "start_time": "2023-08-07T20:42:12.867289832Z"
    }
   }
  },
  {
   "cell_type": "code",
   "execution_count": 23,
   "outputs": [],
   "source": [
    "import category_encoders as ce"
   ],
   "metadata": {
    "collapsed": false,
    "ExecuteTime": {
     "end_time": "2023-08-07T20:42:13.467416187Z",
     "start_time": "2023-08-07T20:42:13.441059166Z"
    }
   }
  },
  {
   "cell_type": "code",
   "execution_count": 24,
   "outputs": [
    {
     "data": {
      "text/plain": "      index    C1  banner_pos   site_id  site_domain  site_category    app_id  \\\n0  18201910  1005           0  0.118590     0.122438       0.128065  0.188735   \n1  35141968  1005           1  0.298257     0.260324       0.180248  0.198970   \n2  11358550  1005           0  0.118590     0.122438       0.128065  0.010814   \n3  36241996  1005           0  0.118590     0.122438       0.128065  0.147823   \n4   2987382  1005           0  0.205980     0.205980       0.208215  0.198970   \n\n   app_domain  app_category  device_id  ...    C14  C15  C16   C17  C18  C19  \\\n0    0.182843      0.093020   0.147823  ...  16615  320   50  1863    3   39   \n1    0.195158      0.199443   0.174547  ...  17264  320   50  1872    3   39   \n2    0.023289      0.093020   0.174547  ...  21191  320   50  2424    1  161   \n3    0.111282      0.107986   0.174547  ...  20751  320   50  1895    0  681   \n4    0.195158      0.199443   0.174547  ...  21724  320   50  2502    0   35   \n\n   C21  dayofweek  day  hour  \n0   23          5   25    12  \n1   23          2   29    15  \n2   71          3   23    10  \n3  101          3   30     0  \n4  221          1   21    15  \n\n[5 rows x 24 columns]",
      "text/html": "<div>\n<style scoped>\n    .dataframe tbody tr th:only-of-type {\n        vertical-align: middle;\n    }\n\n    .dataframe tbody tr th {\n        vertical-align: top;\n    }\n\n    .dataframe thead th {\n        text-align: right;\n    }\n</style>\n<table border=\"1\" class=\"dataframe\">\n  <thead>\n    <tr style=\"text-align: right;\">\n      <th></th>\n      <th>index</th>\n      <th>C1</th>\n      <th>banner_pos</th>\n      <th>site_id</th>\n      <th>site_domain</th>\n      <th>site_category</th>\n      <th>app_id</th>\n      <th>app_domain</th>\n      <th>app_category</th>\n      <th>device_id</th>\n      <th>...</th>\n      <th>C14</th>\n      <th>C15</th>\n      <th>C16</th>\n      <th>C17</th>\n      <th>C18</th>\n      <th>C19</th>\n      <th>C21</th>\n      <th>dayofweek</th>\n      <th>day</th>\n      <th>hour</th>\n    </tr>\n  </thead>\n  <tbody>\n    <tr>\n      <th>0</th>\n      <td>18201910</td>\n      <td>1005</td>\n      <td>0</td>\n      <td>0.118590</td>\n      <td>0.122438</td>\n      <td>0.128065</td>\n      <td>0.188735</td>\n      <td>0.182843</td>\n      <td>0.093020</td>\n      <td>0.147823</td>\n      <td>...</td>\n      <td>16615</td>\n      <td>320</td>\n      <td>50</td>\n      <td>1863</td>\n      <td>3</td>\n      <td>39</td>\n      <td>23</td>\n      <td>5</td>\n      <td>25</td>\n      <td>12</td>\n    </tr>\n    <tr>\n      <th>1</th>\n      <td>35141968</td>\n      <td>1005</td>\n      <td>1</td>\n      <td>0.298257</td>\n      <td>0.260324</td>\n      <td>0.180248</td>\n      <td>0.198970</td>\n      <td>0.195158</td>\n      <td>0.199443</td>\n      <td>0.174547</td>\n      <td>...</td>\n      <td>17264</td>\n      <td>320</td>\n      <td>50</td>\n      <td>1872</td>\n      <td>3</td>\n      <td>39</td>\n      <td>23</td>\n      <td>2</td>\n      <td>29</td>\n      <td>15</td>\n    </tr>\n    <tr>\n      <th>2</th>\n      <td>11358550</td>\n      <td>1005</td>\n      <td>0</td>\n      <td>0.118590</td>\n      <td>0.122438</td>\n      <td>0.128065</td>\n      <td>0.010814</td>\n      <td>0.023289</td>\n      <td>0.093020</td>\n      <td>0.174547</td>\n      <td>...</td>\n      <td>21191</td>\n      <td>320</td>\n      <td>50</td>\n      <td>2424</td>\n      <td>1</td>\n      <td>161</td>\n      <td>71</td>\n      <td>3</td>\n      <td>23</td>\n      <td>10</td>\n    </tr>\n    <tr>\n      <th>3</th>\n      <td>36241996</td>\n      <td>1005</td>\n      <td>0</td>\n      <td>0.118590</td>\n      <td>0.122438</td>\n      <td>0.128065</td>\n      <td>0.147823</td>\n      <td>0.111282</td>\n      <td>0.107986</td>\n      <td>0.174547</td>\n      <td>...</td>\n      <td>20751</td>\n      <td>320</td>\n      <td>50</td>\n      <td>1895</td>\n      <td>0</td>\n      <td>681</td>\n      <td>101</td>\n      <td>3</td>\n      <td>30</td>\n      <td>0</td>\n    </tr>\n    <tr>\n      <th>4</th>\n      <td>2987382</td>\n      <td>1005</td>\n      <td>0</td>\n      <td>0.205980</td>\n      <td>0.205980</td>\n      <td>0.208215</td>\n      <td>0.198970</td>\n      <td>0.195158</td>\n      <td>0.199443</td>\n      <td>0.174547</td>\n      <td>...</td>\n      <td>21724</td>\n      <td>320</td>\n      <td>50</td>\n      <td>2502</td>\n      <td>0</td>\n      <td>35</td>\n      <td>221</td>\n      <td>1</td>\n      <td>21</td>\n      <td>15</td>\n    </tr>\n  </tbody>\n</table>\n<p>5 rows × 24 columns</p>\n</div>"
     },
     "execution_count": 24,
     "metadata": {},
     "output_type": "execute_result"
    }
   ],
   "source": [
    "target_encoder = ce.TargetEncoder()\n",
    "X = target_encoder.fit_transform(X_train, y_train)\n",
    "X.head()"
   ],
   "metadata": {
    "collapsed": false,
    "ExecuteTime": {
     "end_time": "2023-08-07T20:42:38.029122235Z",
     "start_time": "2023-08-07T20:42:14.018541471Z"
    }
   }
  },
  {
   "cell_type": "code",
   "execution_count": 25,
   "outputs": [],
   "source": [
    "from sklearn.model_selection import train_test_split"
   ],
   "metadata": {
    "collapsed": false,
    "ExecuteTime": {
     "end_time": "2023-08-07T20:42:39.963140611Z",
     "start_time": "2023-08-07T20:42:39.926017524Z"
    }
   }
  },
  {
   "cell_type": "code",
   "execution_count": 26,
   "outputs": [],
   "source": [
    "X_train, X_test, y_train, y_test = train_test_split(X, y_train, stratify=y_train, test_size= 0.3, random_state= 42)"
   ],
   "metadata": {
    "collapsed": false,
    "ExecuteTime": {
     "end_time": "2023-08-07T20:42:46.771264638Z",
     "start_time": "2023-08-07T20:42:40.491057597Z"
    }
   }
  },
  {
   "cell_type": "code",
   "execution_count": 27,
   "outputs": [
    {
     "name": "stderr",
     "output_type": "stream",
     "text": [
      "/home/stefan/miniconda3/envs/exploration-ctr/lib/python3.10/site-packages/sklearn/metrics/_classification.py:1344: UndefinedMetricWarning: Precision and F-score are ill-defined and being set to 0.0 in labels with no predicted samples. Use `zero_division` parameter to control this behavior.\n",
      "  _warn_prf(average, modifier, msg_start, len(result))\n",
      "/home/stefan/miniconda3/envs/exploration-ctr/lib/python3.10/site-packages/sklearn/metrics/_classification.py:1344: UndefinedMetricWarning: Precision and F-score are ill-defined and being set to 0.0 in labels with no predicted samples. Use `zero_division` parameter to control this behavior.\n",
      "  _warn_prf(average, modifier, msg_start, len(result))\n"
     ]
    },
    {
     "data": {
      "text/plain": "{'train': [{'confusion_matrix': array([[1174557,       0],\n          [ 240456,       0]]),\n   'accuracy': 0.8300679923081978,\n   'precision': array([0.83006799, 0.        ]),\n   'recall': array([1., 0.]),\n   'fscore': array([0.90714443, 0.        ])}],\n 'test': [{'confusion_matrix': array([[503382,      0],\n          [103053,      0]]),\n   'accuracy': 0.8300675257859458,\n   'precision': array([0.83006753, 0.        ]),\n   'recall': array([1., 0.]),\n   'fscore': array([0.90714415, 0.        ])}],\n 'cross-validation': array([0.83006894, 0.83006894, 0.83006541, 0.83006834, 0.83006834])}"
     },
     "execution_count": 27,
     "metadata": {},
     "output_type": "execute_result"
    }
   ],
   "source": [
    "from sklearn.dummy import DummyClassifier\n",
    "from src.utils import model_utils\n",
    "\n",
    "dummy_clf = DummyClassifier(strategy= \"most_frequent\")\n",
    "dummy_clf.fit(X_train, y_train)\n",
    "temp = model_utils.store_results(X_train=X_train,\n",
    "                                 y_train=y_train,\n",
    "                                 X_test=X_test,\n",
    "                                 y_test=y_test,\n",
    "                                 model=dummy_clf,\n",
    "                                 folds=5)\n",
    "temp"
   ],
   "metadata": {
    "collapsed": false,
    "ExecuteTime": {
     "end_time": "2023-08-07T20:42:49.521158852Z",
     "start_time": "2023-08-07T20:42:46.776360525Z"
    }
   }
  },
  {
   "cell_type": "code",
   "execution_count": 31,
   "outputs": [
    {
     "ename": "AttributeError",
     "evalue": "'DataFrame' object has no attribute 'values_count'",
     "output_type": "error",
     "traceback": [
      "\u001B[0;31m---------------------------------------------------------------------------\u001B[0m",
      "\u001B[0;31mAttributeError\u001B[0m                            Traceback (most recent call last)",
      "Cell \u001B[0;32mIn[31], line 1\u001B[0m\n\u001B[0;32m----> 1\u001B[0m \u001B[43my_train\u001B[49m\u001B[38;5;241;43m.\u001B[39;49m\u001B[43mvalues_count\u001B[49m()\n",
      "File \u001B[0;32m~/miniconda3/envs/exploration-ctr/lib/python3.10/site-packages/pandas/core/generic.py:5902\u001B[0m, in \u001B[0;36mNDFrame.__getattr__\u001B[0;34m(self, name)\u001B[0m\n\u001B[1;32m   5895\u001B[0m \u001B[38;5;28;01mif\u001B[39;00m (\n\u001B[1;32m   5896\u001B[0m     name \u001B[38;5;129;01mnot\u001B[39;00m \u001B[38;5;129;01min\u001B[39;00m \u001B[38;5;28mself\u001B[39m\u001B[38;5;241m.\u001B[39m_internal_names_set\n\u001B[1;32m   5897\u001B[0m     \u001B[38;5;129;01mand\u001B[39;00m name \u001B[38;5;129;01mnot\u001B[39;00m \u001B[38;5;129;01min\u001B[39;00m \u001B[38;5;28mself\u001B[39m\u001B[38;5;241m.\u001B[39m_metadata\n\u001B[1;32m   5898\u001B[0m     \u001B[38;5;129;01mand\u001B[39;00m name \u001B[38;5;129;01mnot\u001B[39;00m \u001B[38;5;129;01min\u001B[39;00m \u001B[38;5;28mself\u001B[39m\u001B[38;5;241m.\u001B[39m_accessors\n\u001B[1;32m   5899\u001B[0m     \u001B[38;5;129;01mand\u001B[39;00m \u001B[38;5;28mself\u001B[39m\u001B[38;5;241m.\u001B[39m_info_axis\u001B[38;5;241m.\u001B[39m_can_hold_identifiers_and_holds_name(name)\n\u001B[1;32m   5900\u001B[0m ):\n\u001B[1;32m   5901\u001B[0m     \u001B[38;5;28;01mreturn\u001B[39;00m \u001B[38;5;28mself\u001B[39m[name]\n\u001B[0;32m-> 5902\u001B[0m \u001B[38;5;28;01mreturn\u001B[39;00m \u001B[38;5;28;43mobject\u001B[39;49m\u001B[38;5;241;43m.\u001B[39;49m\u001B[38;5;21;43m__getattribute__\u001B[39;49m\u001B[43m(\u001B[49m\u001B[38;5;28;43mself\u001B[39;49m\u001B[43m,\u001B[49m\u001B[43m \u001B[49m\u001B[43mname\u001B[49m\u001B[43m)\u001B[49m\n",
      "\u001B[0;31mAttributeError\u001B[0m: 'DataFrame' object has no attribute 'values_count'"
     ]
    }
   ],
   "source": [],
   "metadata": {
    "collapsed": false,
    "ExecuteTime": {
     "end_time": "2023-08-07T10:14:36.334556667Z",
     "start_time": "2023-08-07T10:14:36.312627621Z"
    }
   }
  },
  {
   "cell_type": "code",
   "execution_count": null,
   "outputs": [],
   "source": [],
   "metadata": {
    "collapsed": false
   }
  }
 ],
 "metadata": {
  "kernelspec": {
   "display_name": "Python 3",
   "language": "python",
   "name": "python3"
  },
  "language_info": {
   "codemirror_mode": {
    "name": "ipython",
    "version": 2
   },
   "file_extension": ".py",
   "mimetype": "text/x-python",
   "name": "python",
   "nbconvert_exporter": "python",
   "pygments_lexer": "ipython2",
   "version": "2.7.6"
  }
 },
 "nbformat": 4,
 "nbformat_minor": 0
}
