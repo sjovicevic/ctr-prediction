{
 "cells": [
  {
   "cell_type": "code",
   "execution_count": 20,
   "metadata": {
    "collapsed": true,
    "ExecuteTime": {
     "end_time": "2023-08-07T20:42:05.630965876Z",
     "start_time": "2023-08-07T20:42:05.594079676Z"
    }
   },
   "outputs": [
    {
     "name": "stdout",
     "output_type": "stream",
     "text": [
      "The autoreload extension is already loaded. To reload it, use:\n",
      "  %reload_ext autoreload\n"
     ]
    }
   ],
   "source": [
    "%load_ext autoreload\n",
    "%autoreload 2"
   ]
  },
  {
   "cell_type": "code",
   "execution_count": 74,
   "outputs": [],
   "source": [
    "import pandas as pd\n",
    "import category_encoders as ce\n",
    "import numpy as np\n",
    "from sklearn.model_selection import train_test_split\n",
    "from sklearn.dummy import DummyClassifier\n",
    "from src.utils import model_utils\n",
    "from sklearn.preprocessing import MinMaxScaler\n",
    "from sklearn.linear_model import LogisticRegression\n"
   ],
   "metadata": {
    "collapsed": false,
    "ExecuteTime": {
     "end_time": "2023-08-08T08:52:28.393100911Z",
     "start_time": "2023-08-08T08:52:28.366714559Z"
    }
   }
  },
  {
   "cell_type": "code",
   "execution_count": 75,
   "outputs": [],
   "source": [
    "X_train = pd.read_csv('../data/input/X_train.csv')\n",
    "y_train = pd.read_csv('../data/input/y_train.csv')"
   ],
   "metadata": {
    "collapsed": false,
    "ExecuteTime": {
     "end_time": "2023-08-08T08:52:33.686862461Z",
     "start_time": "2023-08-08T08:52:28.773200044Z"
    }
   }
  },
  {
   "cell_type": "code",
   "execution_count": 76,
   "outputs": [
    {
     "data": {
      "text/plain": "      index    C1  banner_pos   site_id  site_domain  site_category    app_id  \\\n0  18201910  1005           0  0.118590     0.122438       0.128065  0.188735   \n1  35141968  1005           1  0.298257     0.260324       0.180248  0.198970   \n2  11358550  1005           0  0.118590     0.122438       0.128065  0.010814   \n3  36241996  1005           0  0.118590     0.122438       0.128065  0.147823   \n4   2987382  1005           0  0.205980     0.205980       0.208215  0.198970   \n\n   app_domain  app_category  device_id  ...    C14  C15  C16   C17  C18  C19  \\\n0    0.182843      0.093020   0.147823  ...  16615  320   50  1863    3   39   \n1    0.195158      0.199443   0.174547  ...  17264  320   50  1872    3   39   \n2    0.023289      0.093020   0.174547  ...  21191  320   50  2424    1  161   \n3    0.111282      0.107986   0.174547  ...  20751  320   50  1895    0  681   \n4    0.195158      0.199443   0.174547  ...  21724  320   50  2502    0   35   \n\n   C21  dayofweek  day  hour  \n0   23          5   25    12  \n1   23          2   29    15  \n2   71          3   23    10  \n3  101          3   30     0  \n4  221          1   21    15  \n\n[5 rows x 24 columns]",
      "text/html": "<div>\n<style scoped>\n    .dataframe tbody tr th:only-of-type {\n        vertical-align: middle;\n    }\n\n    .dataframe tbody tr th {\n        vertical-align: top;\n    }\n\n    .dataframe thead th {\n        text-align: right;\n    }\n</style>\n<table border=\"1\" class=\"dataframe\">\n  <thead>\n    <tr style=\"text-align: right;\">\n      <th></th>\n      <th>index</th>\n      <th>C1</th>\n      <th>banner_pos</th>\n      <th>site_id</th>\n      <th>site_domain</th>\n      <th>site_category</th>\n      <th>app_id</th>\n      <th>app_domain</th>\n      <th>app_category</th>\n      <th>device_id</th>\n      <th>...</th>\n      <th>C14</th>\n      <th>C15</th>\n      <th>C16</th>\n      <th>C17</th>\n      <th>C18</th>\n      <th>C19</th>\n      <th>C21</th>\n      <th>dayofweek</th>\n      <th>day</th>\n      <th>hour</th>\n    </tr>\n  </thead>\n  <tbody>\n    <tr>\n      <th>0</th>\n      <td>18201910</td>\n      <td>1005</td>\n      <td>0</td>\n      <td>0.118590</td>\n      <td>0.122438</td>\n      <td>0.128065</td>\n      <td>0.188735</td>\n      <td>0.182843</td>\n      <td>0.093020</td>\n      <td>0.147823</td>\n      <td>...</td>\n      <td>16615</td>\n      <td>320</td>\n      <td>50</td>\n      <td>1863</td>\n      <td>3</td>\n      <td>39</td>\n      <td>23</td>\n      <td>5</td>\n      <td>25</td>\n      <td>12</td>\n    </tr>\n    <tr>\n      <th>1</th>\n      <td>35141968</td>\n      <td>1005</td>\n      <td>1</td>\n      <td>0.298257</td>\n      <td>0.260324</td>\n      <td>0.180248</td>\n      <td>0.198970</td>\n      <td>0.195158</td>\n      <td>0.199443</td>\n      <td>0.174547</td>\n      <td>...</td>\n      <td>17264</td>\n      <td>320</td>\n      <td>50</td>\n      <td>1872</td>\n      <td>3</td>\n      <td>39</td>\n      <td>23</td>\n      <td>2</td>\n      <td>29</td>\n      <td>15</td>\n    </tr>\n    <tr>\n      <th>2</th>\n      <td>11358550</td>\n      <td>1005</td>\n      <td>0</td>\n      <td>0.118590</td>\n      <td>0.122438</td>\n      <td>0.128065</td>\n      <td>0.010814</td>\n      <td>0.023289</td>\n      <td>0.093020</td>\n      <td>0.174547</td>\n      <td>...</td>\n      <td>21191</td>\n      <td>320</td>\n      <td>50</td>\n      <td>2424</td>\n      <td>1</td>\n      <td>161</td>\n      <td>71</td>\n      <td>3</td>\n      <td>23</td>\n      <td>10</td>\n    </tr>\n    <tr>\n      <th>3</th>\n      <td>36241996</td>\n      <td>1005</td>\n      <td>0</td>\n      <td>0.118590</td>\n      <td>0.122438</td>\n      <td>0.128065</td>\n      <td>0.147823</td>\n      <td>0.111282</td>\n      <td>0.107986</td>\n      <td>0.174547</td>\n      <td>...</td>\n      <td>20751</td>\n      <td>320</td>\n      <td>50</td>\n      <td>1895</td>\n      <td>0</td>\n      <td>681</td>\n      <td>101</td>\n      <td>3</td>\n      <td>30</td>\n      <td>0</td>\n    </tr>\n    <tr>\n      <th>4</th>\n      <td>2987382</td>\n      <td>1005</td>\n      <td>0</td>\n      <td>0.205980</td>\n      <td>0.205980</td>\n      <td>0.208215</td>\n      <td>0.198970</td>\n      <td>0.195158</td>\n      <td>0.199443</td>\n      <td>0.174547</td>\n      <td>...</td>\n      <td>21724</td>\n      <td>320</td>\n      <td>50</td>\n      <td>2502</td>\n      <td>0</td>\n      <td>35</td>\n      <td>221</td>\n      <td>1</td>\n      <td>21</td>\n      <td>15</td>\n    </tr>\n  </tbody>\n</table>\n<p>5 rows × 24 columns</p>\n</div>"
     },
     "execution_count": 76,
     "metadata": {},
     "output_type": "execute_result"
    }
   ],
   "source": [
    "target_encoder = ce.TargetEncoder()\n",
    "X = target_encoder.fit_transform(X_train, y_train)\n",
    "X.head()"
   ],
   "metadata": {
    "collapsed": false,
    "ExecuteTime": {
     "end_time": "2023-08-08T08:53:08.703800581Z",
     "start_time": "2023-08-08T08:52:39.956763300Z"
    }
   }
  },
  {
   "cell_type": "code",
   "execution_count": 77,
   "outputs": [],
   "source": [
    "X_train, X_test, y_train, y_test = train_test_split(X, y_train, stratify=y_train, test_size= 0.3, random_state= 42)"
   ],
   "metadata": {
    "collapsed": false,
    "ExecuteTime": {
     "end_time": "2023-08-08T08:53:17.964084240Z",
     "start_time": "2023-08-08T08:53:10.400728444Z"
    }
   }
  },
  {
   "cell_type": "code",
   "execution_count": 78,
   "outputs": [
    {
     "name": "stdout",
     "output_type": "stream",
     "text": [
      "Training data confusion matrix: \n",
      " [[1174557       0]\n",
      " [ 240456       0]]\n",
      "Test data confusion matrix: \n",
      " [[503382      0]\n",
      " [103053      0]]\n"
     ]
    },
    {
     "name": "stderr",
     "output_type": "stream",
     "text": [
      "/home/stefan/PycharmProjects/exploration-ctr/src/utils/model_utils.py:21: RuntimeWarning: invalid value encountered in scalar divide\n",
      "  recall = TP / (TP + FP)\n"
     ]
    },
    {
     "data": {
      "text/plain": "        model-name  accuracy-train  precision-train  recall-train  \\\n0  DummyClassifier        0.830068              0.0           NaN   \n\n   accuracy_test  precision-test  recall-test  cross-val-mean  cross-val-1  \\\n0       0.830068             0.0          NaN        0.830068     0.830069   \n\n   cross-val-2  cross-val-3  cross-val-4  cross-val-5  \n0     0.830069     0.830065     0.830068     0.830068  ",
      "text/html": "<div>\n<style scoped>\n    .dataframe tbody tr th:only-of-type {\n        vertical-align: middle;\n    }\n\n    .dataframe tbody tr th {\n        vertical-align: top;\n    }\n\n    .dataframe thead th {\n        text-align: right;\n    }\n</style>\n<table border=\"1\" class=\"dataframe\">\n  <thead>\n    <tr style=\"text-align: right;\">\n      <th></th>\n      <th>model-name</th>\n      <th>accuracy-train</th>\n      <th>precision-train</th>\n      <th>recall-train</th>\n      <th>accuracy_test</th>\n      <th>precision-test</th>\n      <th>recall-test</th>\n      <th>cross-val-mean</th>\n      <th>cross-val-1</th>\n      <th>cross-val-2</th>\n      <th>cross-val-3</th>\n      <th>cross-val-4</th>\n      <th>cross-val-5</th>\n    </tr>\n  </thead>\n  <tbody>\n    <tr>\n      <th>0</th>\n      <td>DummyClassifier</td>\n      <td>0.830068</td>\n      <td>0.0</td>\n      <td>NaN</td>\n      <td>0.830068</td>\n      <td>0.0</td>\n      <td>NaN</td>\n      <td>0.830068</td>\n      <td>0.830069</td>\n      <td>0.830069</td>\n      <td>0.830065</td>\n      <td>0.830068</td>\n      <td>0.830068</td>\n    </tr>\n  </tbody>\n</table>\n</div>"
     },
     "execution_count": 78,
     "metadata": {},
     "output_type": "execute_result"
    }
   ],
   "source": [
    "outcome = pd.DataFrame()\n",
    "dummy_clf = DummyClassifier(strategy= \"most_frequent\")\n",
    "dummy_clf.fit(X_train, y_train)\n",
    "temp = model_utils.store_results(name='DummyClassifier',\n",
    "                                 X_train=X_train,\n",
    "                                 y_train=y_train,\n",
    "                                 X_test=X_test,\n",
    "                                 y_test=y_test,\n",
    "                                 model=dummy_clf,\n",
    "                                 folds=5)\n",
    "\n",
    "outcome = pd.concat([outcome,temp])\n",
    "outcome"
   ],
   "metadata": {
    "collapsed": false,
    "ExecuteTime": {
     "end_time": "2023-08-08T08:53:21.263325903Z",
     "start_time": "2023-08-08T08:53:17.967694138Z"
    }
   }
  },
  {
   "cell_type": "code",
   "execution_count": 79,
   "outputs": [
    {
     "data": {
      "text/plain": "            index        C1  banner_pos   site_id  site_domain  site_category  \\\n281816   0.700998  0.363636         0.0  0.242860     0.287645       0.404588   \n1466266  0.272648  0.363636         0.0  0.139823     0.170980       0.248846   \n956504   0.884906  0.363636         0.0  0.034133     0.028752       0.404588   \n606180   0.704483  0.363636         0.0  0.139823     0.170980       0.248846   \n1105485  0.086895  0.363636         0.0  0.242860     0.287645       0.404588   \n\n           app_id  app_domain  app_category  device_id  ...       C14  \\\n281816   0.206170     0.30328      0.587333   0.219592  ...  0.907547   \n1466266  0.195564     0.28352      0.247509   0.174786  ...  0.027960   \n956504   0.206170     0.30328      0.587333   0.219592  ...  0.831862   \n606180   0.074972     0.10605      0.295297   0.219592  ...  0.961651   \n1105485  0.206170     0.30328      0.587333   0.219592  ...  0.901719   \n\n              C15      C16       C17  C18       C19       C21  dayofweek  \\\n281816   0.221239  0.02988  0.911565  0.0  0.001107  0.866142   0.166667   \n1466266  0.221239  0.02988  0.024943  1.0  0.716501  0.055118   0.500000   \n956504   0.221239  0.02988  0.823507  1.0  0.001107  0.165354   0.333333   \n606180   0.221239  0.02988  0.964853  0.0  0.000554  0.866142   0.166667   \n1105485  0.221239  0.02988  0.903250  0.0  0.001107  0.866142   0.166667   \n\n              day      hour  \n281816   0.777778  0.347826  \n1466266  0.222222  0.391304  \n956504   0.888889  0.826087  \n606180   0.777778  0.347826  \n1105485  0.000000  0.782609  \n\n[5 rows x 24 columns]",
      "text/html": "<div>\n<style scoped>\n    .dataframe tbody tr th:only-of-type {\n        vertical-align: middle;\n    }\n\n    .dataframe tbody tr th {\n        vertical-align: top;\n    }\n\n    .dataframe thead th {\n        text-align: right;\n    }\n</style>\n<table border=\"1\" class=\"dataframe\">\n  <thead>\n    <tr style=\"text-align: right;\">\n      <th></th>\n      <th>index</th>\n      <th>C1</th>\n      <th>banner_pos</th>\n      <th>site_id</th>\n      <th>site_domain</th>\n      <th>site_category</th>\n      <th>app_id</th>\n      <th>app_domain</th>\n      <th>app_category</th>\n      <th>device_id</th>\n      <th>...</th>\n      <th>C14</th>\n      <th>C15</th>\n      <th>C16</th>\n      <th>C17</th>\n      <th>C18</th>\n      <th>C19</th>\n      <th>C21</th>\n      <th>dayofweek</th>\n      <th>day</th>\n      <th>hour</th>\n    </tr>\n  </thead>\n  <tbody>\n    <tr>\n      <th>281816</th>\n      <td>0.700998</td>\n      <td>0.363636</td>\n      <td>0.0</td>\n      <td>0.242860</td>\n      <td>0.287645</td>\n      <td>0.404588</td>\n      <td>0.206170</td>\n      <td>0.30328</td>\n      <td>0.587333</td>\n      <td>0.219592</td>\n      <td>...</td>\n      <td>0.907547</td>\n      <td>0.221239</td>\n      <td>0.02988</td>\n      <td>0.911565</td>\n      <td>0.0</td>\n      <td>0.001107</td>\n      <td>0.866142</td>\n      <td>0.166667</td>\n      <td>0.777778</td>\n      <td>0.347826</td>\n    </tr>\n    <tr>\n      <th>1466266</th>\n      <td>0.272648</td>\n      <td>0.363636</td>\n      <td>0.0</td>\n      <td>0.139823</td>\n      <td>0.170980</td>\n      <td>0.248846</td>\n      <td>0.195564</td>\n      <td>0.28352</td>\n      <td>0.247509</td>\n      <td>0.174786</td>\n      <td>...</td>\n      <td>0.027960</td>\n      <td>0.221239</td>\n      <td>0.02988</td>\n      <td>0.024943</td>\n      <td>1.0</td>\n      <td>0.716501</td>\n      <td>0.055118</td>\n      <td>0.500000</td>\n      <td>0.222222</td>\n      <td>0.391304</td>\n    </tr>\n    <tr>\n      <th>956504</th>\n      <td>0.884906</td>\n      <td>0.363636</td>\n      <td>0.0</td>\n      <td>0.034133</td>\n      <td>0.028752</td>\n      <td>0.404588</td>\n      <td>0.206170</td>\n      <td>0.30328</td>\n      <td>0.587333</td>\n      <td>0.219592</td>\n      <td>...</td>\n      <td>0.831862</td>\n      <td>0.221239</td>\n      <td>0.02988</td>\n      <td>0.823507</td>\n      <td>1.0</td>\n      <td>0.001107</td>\n      <td>0.165354</td>\n      <td>0.333333</td>\n      <td>0.888889</td>\n      <td>0.826087</td>\n    </tr>\n    <tr>\n      <th>606180</th>\n      <td>0.704483</td>\n      <td>0.363636</td>\n      <td>0.0</td>\n      <td>0.139823</td>\n      <td>0.170980</td>\n      <td>0.248846</td>\n      <td>0.074972</td>\n      <td>0.10605</td>\n      <td>0.295297</td>\n      <td>0.219592</td>\n      <td>...</td>\n      <td>0.961651</td>\n      <td>0.221239</td>\n      <td>0.02988</td>\n      <td>0.964853</td>\n      <td>0.0</td>\n      <td>0.000554</td>\n      <td>0.866142</td>\n      <td>0.166667</td>\n      <td>0.777778</td>\n      <td>0.347826</td>\n    </tr>\n    <tr>\n      <th>1105485</th>\n      <td>0.086895</td>\n      <td>0.363636</td>\n      <td>0.0</td>\n      <td>0.242860</td>\n      <td>0.287645</td>\n      <td>0.404588</td>\n      <td>0.206170</td>\n      <td>0.30328</td>\n      <td>0.587333</td>\n      <td>0.219592</td>\n      <td>...</td>\n      <td>0.901719</td>\n      <td>0.221239</td>\n      <td>0.02988</td>\n      <td>0.903250</td>\n      <td>0.0</td>\n      <td>0.001107</td>\n      <td>0.866142</td>\n      <td>0.166667</td>\n      <td>0.000000</td>\n      <td>0.782609</td>\n    </tr>\n  </tbody>\n</table>\n<p>5 rows × 24 columns</p>\n</div>"
     },
     "execution_count": 79,
     "metadata": {},
     "output_type": "execute_result"
    }
   ],
   "source": [
    "scaler = MinMaxScaler()\n",
    "X_train[X_train.columns] = scaler.fit_transform(X_train[X_train.columns])\n",
    "X_train.head()"
   ],
   "metadata": {
    "collapsed": false,
    "ExecuteTime": {
     "end_time": "2023-08-08T08:53:23.949224583Z",
     "start_time": "2023-08-08T08:53:23.320630426Z"
    }
   }
  },
  {
   "cell_type": "code",
   "execution_count": 80,
   "outputs": [
    {
     "data": {
      "text/plain": "LogisticRegression(max_iter=1000)",
      "text/html": "<style>#sk-container-id-4 {color: black;background-color: white;}#sk-container-id-4 pre{padding: 0;}#sk-container-id-4 div.sk-toggleable {background-color: white;}#sk-container-id-4 label.sk-toggleable__label {cursor: pointer;display: block;width: 100%;margin-bottom: 0;padding: 0.3em;box-sizing: border-box;text-align: center;}#sk-container-id-4 label.sk-toggleable__label-arrow:before {content: \"▸\";float: left;margin-right: 0.25em;color: #696969;}#sk-container-id-4 label.sk-toggleable__label-arrow:hover:before {color: black;}#sk-container-id-4 div.sk-estimator:hover label.sk-toggleable__label-arrow:before {color: black;}#sk-container-id-4 div.sk-toggleable__content {max-height: 0;max-width: 0;overflow: hidden;text-align: left;background-color: #f0f8ff;}#sk-container-id-4 div.sk-toggleable__content pre {margin: 0.2em;color: black;border-radius: 0.25em;background-color: #f0f8ff;}#sk-container-id-4 input.sk-toggleable__control:checked~div.sk-toggleable__content {max-height: 200px;max-width: 100%;overflow: auto;}#sk-container-id-4 input.sk-toggleable__control:checked~label.sk-toggleable__label-arrow:before {content: \"▾\";}#sk-container-id-4 div.sk-estimator input.sk-toggleable__control:checked~label.sk-toggleable__label {background-color: #d4ebff;}#sk-container-id-4 div.sk-label input.sk-toggleable__control:checked~label.sk-toggleable__label {background-color: #d4ebff;}#sk-container-id-4 input.sk-hidden--visually {border: 0;clip: rect(1px 1px 1px 1px);clip: rect(1px, 1px, 1px, 1px);height: 1px;margin: -1px;overflow: hidden;padding: 0;position: absolute;width: 1px;}#sk-container-id-4 div.sk-estimator {font-family: monospace;background-color: #f0f8ff;border: 1px dotted black;border-radius: 0.25em;box-sizing: border-box;margin-bottom: 0.5em;}#sk-container-id-4 div.sk-estimator:hover {background-color: #d4ebff;}#sk-container-id-4 div.sk-parallel-item::after {content: \"\";width: 100%;border-bottom: 1px solid gray;flex-grow: 1;}#sk-container-id-4 div.sk-label:hover label.sk-toggleable__label {background-color: #d4ebff;}#sk-container-id-4 div.sk-serial::before {content: \"\";position: absolute;border-left: 1px solid gray;box-sizing: border-box;top: 0;bottom: 0;left: 50%;z-index: 0;}#sk-container-id-4 div.sk-serial {display: flex;flex-direction: column;align-items: center;background-color: white;padding-right: 0.2em;padding-left: 0.2em;position: relative;}#sk-container-id-4 div.sk-item {position: relative;z-index: 1;}#sk-container-id-4 div.sk-parallel {display: flex;align-items: stretch;justify-content: center;background-color: white;position: relative;}#sk-container-id-4 div.sk-item::before, #sk-container-id-4 div.sk-parallel-item::before {content: \"\";position: absolute;border-left: 1px solid gray;box-sizing: border-box;top: 0;bottom: 0;left: 50%;z-index: -1;}#sk-container-id-4 div.sk-parallel-item {display: flex;flex-direction: column;z-index: 1;position: relative;background-color: white;}#sk-container-id-4 div.sk-parallel-item:first-child::after {align-self: flex-end;width: 50%;}#sk-container-id-4 div.sk-parallel-item:last-child::after {align-self: flex-start;width: 50%;}#sk-container-id-4 div.sk-parallel-item:only-child::after {width: 0;}#sk-container-id-4 div.sk-dashed-wrapped {border: 1px dashed gray;margin: 0 0.4em 0.5em 0.4em;box-sizing: border-box;padding-bottom: 0.4em;background-color: white;}#sk-container-id-4 div.sk-label label {font-family: monospace;font-weight: bold;display: inline-block;line-height: 1.2em;}#sk-container-id-4 div.sk-label-container {text-align: center;}#sk-container-id-4 div.sk-container {/* jupyter's `normalize.less` sets `[hidden] { display: none; }` but bootstrap.min.css set `[hidden] { display: none !important; }` so we also need the `!important` here to be able to override the default hidden behavior on the sphinx rendered scikit-learn.org. See: https://github.com/scikit-learn/scikit-learn/issues/21755 */display: inline-block !important;position: relative;}#sk-container-id-4 div.sk-text-repr-fallback {display: none;}</style><div id=\"sk-container-id-4\" class=\"sk-top-container\"><div class=\"sk-text-repr-fallback\"><pre>LogisticRegression(max_iter=1000)</pre><b>In a Jupyter environment, please rerun this cell to show the HTML representation or trust the notebook. <br />On GitHub, the HTML representation is unable to render, please try loading this page with nbviewer.org.</b></div><div class=\"sk-container\" hidden><div class=\"sk-item\"><div class=\"sk-estimator sk-toggleable\"><input class=\"sk-toggleable__control sk-hidden--visually\" id=\"sk-estimator-id-4\" type=\"checkbox\" checked><label for=\"sk-estimator-id-4\" class=\"sk-toggleable__label sk-toggleable__label-arrow\">LogisticRegression</label><div class=\"sk-toggleable__content\"><pre>LogisticRegression(max_iter=1000)</pre></div></div></div></div></div>"
     },
     "execution_count": 80,
     "metadata": {},
     "output_type": "execute_result"
    }
   ],
   "source": [
    "model = LogisticRegression(max_iter=1000)\n",
    "model.fit(X_train, np.ravel(y_train))"
   ],
   "metadata": {
    "collapsed": false,
    "ExecuteTime": {
     "end_time": "2023-08-08T08:53:41.392984325Z",
     "start_time": "2023-08-08T08:53:25.438715080Z"
    }
   }
  },
  {
   "cell_type": "code",
   "execution_count": 81,
   "outputs": [
    {
     "data": {
      "text/plain": "            index        C1  banner_pos   site_id  site_domain  site_category  \\\n1620562  0.778320  0.363636    0.000000  0.593128     0.702505       0.404588   \n453130   0.068612  0.363636    0.142857  0.283452     0.335722       0.350244   \n\n          app_id  app_domain  app_category  device_id  ...       C14  \\\n1620562  0.20617     0.30328      0.587333   0.219592  ...  0.974068   \n453130   0.20617     0.30328      0.587333   0.219592  ...  0.842041   \n\n              C15      C16       C17       C18       C19       C21  dayofweek  \\\n1620562  0.221239  0.02988  0.972033  0.666667  0.716501  0.200787   0.166667   \n453130   0.221239  0.02988  0.630385  0.000000  0.929125  0.185039   0.166667   \n\n              day      hour  \n1620562  0.777778  0.782609  \n453130   0.000000  0.565217  \n\n[2 rows x 24 columns]",
      "text/html": "<div>\n<style scoped>\n    .dataframe tbody tr th:only-of-type {\n        vertical-align: middle;\n    }\n\n    .dataframe tbody tr th {\n        vertical-align: top;\n    }\n\n    .dataframe thead th {\n        text-align: right;\n    }\n</style>\n<table border=\"1\" class=\"dataframe\">\n  <thead>\n    <tr style=\"text-align: right;\">\n      <th></th>\n      <th>index</th>\n      <th>C1</th>\n      <th>banner_pos</th>\n      <th>site_id</th>\n      <th>site_domain</th>\n      <th>site_category</th>\n      <th>app_id</th>\n      <th>app_domain</th>\n      <th>app_category</th>\n      <th>device_id</th>\n      <th>...</th>\n      <th>C14</th>\n      <th>C15</th>\n      <th>C16</th>\n      <th>C17</th>\n      <th>C18</th>\n      <th>C19</th>\n      <th>C21</th>\n      <th>dayofweek</th>\n      <th>day</th>\n      <th>hour</th>\n    </tr>\n  </thead>\n  <tbody>\n    <tr>\n      <th>1620562</th>\n      <td>0.778320</td>\n      <td>0.363636</td>\n      <td>0.000000</td>\n      <td>0.593128</td>\n      <td>0.702505</td>\n      <td>0.404588</td>\n      <td>0.20617</td>\n      <td>0.30328</td>\n      <td>0.587333</td>\n      <td>0.219592</td>\n      <td>...</td>\n      <td>0.974068</td>\n      <td>0.221239</td>\n      <td>0.02988</td>\n      <td>0.972033</td>\n      <td>0.666667</td>\n      <td>0.716501</td>\n      <td>0.200787</td>\n      <td>0.166667</td>\n      <td>0.777778</td>\n      <td>0.782609</td>\n    </tr>\n    <tr>\n      <th>453130</th>\n      <td>0.068612</td>\n      <td>0.363636</td>\n      <td>0.142857</td>\n      <td>0.283452</td>\n      <td>0.335722</td>\n      <td>0.350244</td>\n      <td>0.20617</td>\n      <td>0.30328</td>\n      <td>0.587333</td>\n      <td>0.219592</td>\n      <td>...</td>\n      <td>0.842041</td>\n      <td>0.221239</td>\n      <td>0.02988</td>\n      <td>0.630385</td>\n      <td>0.000000</td>\n      <td>0.929125</td>\n      <td>0.185039</td>\n      <td>0.166667</td>\n      <td>0.000000</td>\n      <td>0.565217</td>\n    </tr>\n  </tbody>\n</table>\n<p>2 rows × 24 columns</p>\n</div>"
     },
     "execution_count": 81,
     "metadata": {},
     "output_type": "execute_result"
    }
   ],
   "source": [
    "X_test[X_test.columns] = scaler.transform(X_test[X_test.columns])\n",
    "X_test.head(2)"
   ],
   "metadata": {
    "collapsed": false,
    "ExecuteTime": {
     "end_time": "2023-08-08T08:53:45.078632978Z",
     "start_time": "2023-08-08T08:53:44.814111576Z"
    }
   }
  },
  {
   "cell_type": "code",
   "execution_count": 82,
   "outputs": [
    {
     "name": "stdout",
     "output_type": "stream",
     "text": [
      "Training data confusion matrix: \n",
      " [[1133758   40799]\n",
      " [  96231  144225]]\n",
      "Test data confusion matrix: \n",
      " [[485991  17391]\n",
      " [ 41103  61950]]\n"
     ]
    },
    {
     "data": {
      "text/plain": "           model-name  accuracy-train  precision-train  recall-train  \\\n0     DummyClassifier        0.830068         0.000000           NaN   \n0  LogisticRegression        0.903160         0.599798      0.779493   \n\n   accuracy_test  precision-test  recall-test  cross-val-mean  cross-val-1  \\\n0       0.830068        0.000000          NaN        0.830068     0.830069   \n0       0.903544        0.601147     0.780807        0.903161     0.903012   \n\n   cross-val-2  cross-val-3  cross-val-4  cross-val-5  \n0     0.830069     0.830065     0.830068     0.830068  \n0     0.902962     0.903160     0.903495     0.903174  ",
      "text/html": "<div>\n<style scoped>\n    .dataframe tbody tr th:only-of-type {\n        vertical-align: middle;\n    }\n\n    .dataframe tbody tr th {\n        vertical-align: top;\n    }\n\n    .dataframe thead th {\n        text-align: right;\n    }\n</style>\n<table border=\"1\" class=\"dataframe\">\n  <thead>\n    <tr style=\"text-align: right;\">\n      <th></th>\n      <th>model-name</th>\n      <th>accuracy-train</th>\n      <th>precision-train</th>\n      <th>recall-train</th>\n      <th>accuracy_test</th>\n      <th>precision-test</th>\n      <th>recall-test</th>\n      <th>cross-val-mean</th>\n      <th>cross-val-1</th>\n      <th>cross-val-2</th>\n      <th>cross-val-3</th>\n      <th>cross-val-4</th>\n      <th>cross-val-5</th>\n    </tr>\n  </thead>\n  <tbody>\n    <tr>\n      <th>0</th>\n      <td>DummyClassifier</td>\n      <td>0.830068</td>\n      <td>0.000000</td>\n      <td>NaN</td>\n      <td>0.830068</td>\n      <td>0.000000</td>\n      <td>NaN</td>\n      <td>0.830068</td>\n      <td>0.830069</td>\n      <td>0.830069</td>\n      <td>0.830065</td>\n      <td>0.830068</td>\n      <td>0.830068</td>\n    </tr>\n    <tr>\n      <th>0</th>\n      <td>LogisticRegression</td>\n      <td>0.903160</td>\n      <td>0.599798</td>\n      <td>0.779493</td>\n      <td>0.903544</td>\n      <td>0.601147</td>\n      <td>0.780807</td>\n      <td>0.903161</td>\n      <td>0.903012</td>\n      <td>0.902962</td>\n      <td>0.903160</td>\n      <td>0.903495</td>\n      <td>0.903174</td>\n    </tr>\n  </tbody>\n</table>\n</div>"
     },
     "execution_count": 82,
     "metadata": {},
     "output_type": "execute_result"
    }
   ],
   "source": [
    "y_pred = model.predict(X_test)\n",
    "temp = model_utils.store_results(name='LogisticRegression',\n",
    "                                 X_train=X_train,\n",
    "                                 y_train=np.ravel(y_train),\n",
    "                                 X_test=X_test,\n",
    "                                 y_test=y_test,\n",
    "                                 model=model,\n",
    "                                 folds=5)\n",
    "outcome = pd.concat([outcome,temp])\n",
    "outcome"
   ],
   "metadata": {
    "collapsed": false,
    "ExecuteTime": {
     "end_time": "2023-08-08T08:54:22.254395168Z",
     "start_time": "2023-08-08T08:53:46.025558314Z"
    }
   }
  },
  {
   "cell_type": "code",
   "execution_count": null,
   "outputs": [],
   "source": [],
   "metadata": {
    "collapsed": false
   }
  }
 ],
 "metadata": {
  "kernelspec": {
   "display_name": "Python 3",
   "language": "python",
   "name": "python3"
  },
  "language_info": {
   "codemirror_mode": {
    "name": "ipython",
    "version": 2
   },
   "file_extension": ".py",
   "mimetype": "text/x-python",
   "name": "python",
   "nbconvert_exporter": "python",
   "pygments_lexer": "ipython2",
   "version": "2.7.6"
  }
 },
 "nbformat": 4,
 "nbformat_minor": 0
}
