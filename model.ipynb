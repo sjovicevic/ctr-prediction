{
 "cells": [
  {
   "cell_type": "code",
   "execution_count": 1,
   "metadata": {
    "collapsed": true,
    "ExecuteTime": {
     "end_time": "2023-08-03T09:23:43.036544291Z",
     "start_time": "2023-08-03T09:23:42.749484088Z"
    }
   },
   "outputs": [],
   "source": [
    "import pandas as pd"
   ]
  },
  {
   "cell_type": "code",
   "execution_count": 2,
   "outputs": [],
   "source": [
    "X_train = pd.read_csv('data/X_train.csv')\n",
    "y_train = pd.read_csv('data/y_train.csv')"
   ],
   "metadata": {
    "collapsed": false,
    "ExecuteTime": {
     "end_time": "2023-08-03T09:23:48.191091021Z",
     "start_time": "2023-08-03T09:23:43.658977329Z"
    }
   }
  },
  {
   "cell_type": "code",
   "execution_count": 3,
   "outputs": [
    {
     "data": {
      "text/plain": "(2021448, 24)"
     },
     "execution_count": 3,
     "metadata": {},
     "output_type": "execute_result"
    }
   ],
   "source": [
    "X_train.shape"
   ],
   "metadata": {
    "collapsed": false,
    "ExecuteTime": {
     "end_time": "2023-08-03T09:23:55.036537193Z",
     "start_time": "2023-08-03T09:23:54.977379575Z"
    }
   }
  },
  {
   "cell_type": "code",
   "execution_count": 5,
   "outputs": [],
   "source": [
    "import category_encoders as ce"
   ],
   "metadata": {
    "collapsed": false,
    "ExecuteTime": {
     "end_time": "2023-08-03T10:09:27.028592738Z",
     "start_time": "2023-08-03T10:09:27.019406351Z"
    }
   }
  },
  {
   "cell_type": "code",
   "execution_count": 6,
   "outputs": [
    {
     "data": {
      "text/plain": "      index    C1  banner_pos   site_id  site_domain  site_category    app_id  \\\n0  18201910  1005           0  0.118590     0.122438       0.128065  0.188735   \n1  35141968  1005           1  0.298257     0.260324       0.180248  0.198970   \n2  11358550  1005           0  0.118590     0.122438       0.128065  0.010814   \n3  36241996  1005           0  0.118590     0.122438       0.128065  0.147823   \n4   2987382  1005           0  0.205980     0.205980       0.208215  0.198970   \n\n   app_domain  app_category  device_id  ...    C14  C15  C16   C17  C18  C19  \\\n0    0.182843      0.093020   0.147823  ...  16615  320   50  1863    3   39   \n1    0.195158      0.199443   0.174547  ...  17264  320   50  1872    3   39   \n2    0.023289      0.093020   0.174547  ...  21191  320   50  2424    1  161   \n3    0.111282      0.107986   0.174547  ...  20751  320   50  1895    0  681   \n4    0.195158      0.199443   0.174547  ...  21724  320   50  2502    0   35   \n\n   C21  dayofweek  day  hour  \n0   23          5   25    12  \n1   23          2   29    15  \n2   71          3   23    10  \n3  101          3   30     0  \n4  221          1   21    15  \n\n[5 rows x 24 columns]",
      "text/html": "<div>\n<style scoped>\n    .dataframe tbody tr th:only-of-type {\n        vertical-align: middle;\n    }\n\n    .dataframe tbody tr th {\n        vertical-align: top;\n    }\n\n    .dataframe thead th {\n        text-align: right;\n    }\n</style>\n<table border=\"1\" class=\"dataframe\">\n  <thead>\n    <tr style=\"text-align: right;\">\n      <th></th>\n      <th>index</th>\n      <th>C1</th>\n      <th>banner_pos</th>\n      <th>site_id</th>\n      <th>site_domain</th>\n      <th>site_category</th>\n      <th>app_id</th>\n      <th>app_domain</th>\n      <th>app_category</th>\n      <th>device_id</th>\n      <th>...</th>\n      <th>C14</th>\n      <th>C15</th>\n      <th>C16</th>\n      <th>C17</th>\n      <th>C18</th>\n      <th>C19</th>\n      <th>C21</th>\n      <th>dayofweek</th>\n      <th>day</th>\n      <th>hour</th>\n    </tr>\n  </thead>\n  <tbody>\n    <tr>\n      <th>0</th>\n      <td>18201910</td>\n      <td>1005</td>\n      <td>0</td>\n      <td>0.118590</td>\n      <td>0.122438</td>\n      <td>0.128065</td>\n      <td>0.188735</td>\n      <td>0.182843</td>\n      <td>0.093020</td>\n      <td>0.147823</td>\n      <td>...</td>\n      <td>16615</td>\n      <td>320</td>\n      <td>50</td>\n      <td>1863</td>\n      <td>3</td>\n      <td>39</td>\n      <td>23</td>\n      <td>5</td>\n      <td>25</td>\n      <td>12</td>\n    </tr>\n    <tr>\n      <th>1</th>\n      <td>35141968</td>\n      <td>1005</td>\n      <td>1</td>\n      <td>0.298257</td>\n      <td>0.260324</td>\n      <td>0.180248</td>\n      <td>0.198970</td>\n      <td>0.195158</td>\n      <td>0.199443</td>\n      <td>0.174547</td>\n      <td>...</td>\n      <td>17264</td>\n      <td>320</td>\n      <td>50</td>\n      <td>1872</td>\n      <td>3</td>\n      <td>39</td>\n      <td>23</td>\n      <td>2</td>\n      <td>29</td>\n      <td>15</td>\n    </tr>\n    <tr>\n      <th>2</th>\n      <td>11358550</td>\n      <td>1005</td>\n      <td>0</td>\n      <td>0.118590</td>\n      <td>0.122438</td>\n      <td>0.128065</td>\n      <td>0.010814</td>\n      <td>0.023289</td>\n      <td>0.093020</td>\n      <td>0.174547</td>\n      <td>...</td>\n      <td>21191</td>\n      <td>320</td>\n      <td>50</td>\n      <td>2424</td>\n      <td>1</td>\n      <td>161</td>\n      <td>71</td>\n      <td>3</td>\n      <td>23</td>\n      <td>10</td>\n    </tr>\n    <tr>\n      <th>3</th>\n      <td>36241996</td>\n      <td>1005</td>\n      <td>0</td>\n      <td>0.118590</td>\n      <td>0.122438</td>\n      <td>0.128065</td>\n      <td>0.147823</td>\n      <td>0.111282</td>\n      <td>0.107986</td>\n      <td>0.174547</td>\n      <td>...</td>\n      <td>20751</td>\n      <td>320</td>\n      <td>50</td>\n      <td>1895</td>\n      <td>0</td>\n      <td>681</td>\n      <td>101</td>\n      <td>3</td>\n      <td>30</td>\n      <td>0</td>\n    </tr>\n    <tr>\n      <th>4</th>\n      <td>2987382</td>\n      <td>1005</td>\n      <td>0</td>\n      <td>0.205980</td>\n      <td>0.205980</td>\n      <td>0.208215</td>\n      <td>0.198970</td>\n      <td>0.195158</td>\n      <td>0.199443</td>\n      <td>0.174547</td>\n      <td>...</td>\n      <td>21724</td>\n      <td>320</td>\n      <td>50</td>\n      <td>2502</td>\n      <td>0</td>\n      <td>35</td>\n      <td>221</td>\n      <td>1</td>\n      <td>21</td>\n      <td>15</td>\n    </tr>\n  </tbody>\n</table>\n<p>5 rows × 24 columns</p>\n</div>"
     },
     "execution_count": 6,
     "metadata": {},
     "output_type": "execute_result"
    }
   ],
   "source": [
    "target_encoder = ce.TargetEncoder()\n",
    "X = target_encoder.fit_transform(X_train, y_train)\n",
    "X.head()"
   ],
   "metadata": {
    "collapsed": false,
    "ExecuteTime": {
     "end_time": "2023-08-03T10:10:22.258597638Z",
     "start_time": "2023-08-03T10:09:58.032842931Z"
    }
   }
  },
  {
   "cell_type": "code",
   "execution_count": 7,
   "outputs": [],
   "source": [
    "from sklearn.model_selection import train_test_split"
   ],
   "metadata": {
    "collapsed": false,
    "ExecuteTime": {
     "end_time": "2023-08-03T10:11:06.123477971Z",
     "start_time": "2023-08-03T10:11:06.089231233Z"
    }
   }
  },
  {
   "cell_type": "code",
   "execution_count": 8,
   "outputs": [],
   "source": [
    "X_train, X_test, y_train, y_test = train_test_split(X, y_train, stratify=y_train, test_size= 0.3, random_state= 42)"
   ],
   "metadata": {
    "collapsed": false,
    "ExecuteTime": {
     "end_time": "2023-08-03T10:11:31.614623319Z",
     "start_time": "2023-08-03T10:11:25.499614088Z"
    }
   }
  },
  {
   "cell_type": "code",
   "execution_count": 9,
   "outputs": [],
   "source": [
    "from sklearn import metrics"
   ],
   "metadata": {
    "collapsed": false,
    "ExecuteTime": {
     "end_time": "2023-08-03T10:13:01.148698558Z",
     "start_time": "2023-08-03T10:13:01.108373746Z"
    }
   }
  },
  {
   "cell_type": "code",
   "execution_count": null,
   "outputs": [],
   "source": [
    "def model_evaluation(model, X_test, y_test):\n",
    "    y_pred = model.predict(X_test)\n",
    "    accuracy = metrics.accuracy_score(y_test, y_pred)\n",
    "\n",
    "    cnf_matrix = metrics.confusion_matrix(y_test, y_pred)\n",
    "\n",
    "    return accuracy, cnf_matrix"
   ],
   "metadata": {
    "collapsed": false
   }
  },
  {
   "cell_type": "code",
   "execution_count": 10,
   "outputs": [],
   "source": [
    "from sklearn.model_selection import cross_val_score"
   ],
   "metadata": {
    "collapsed": false,
    "ExecuteTime": {
     "end_time": "2023-08-03T10:15:47.917692220Z",
     "start_time": "2023-08-03T10:15:47.904587191Z"
    }
   }
  },
  {
   "cell_type": "code",
   "execution_count": null,
   "outputs": [],
   "source": [
    "def cross_val(model, x, y, folds):\n",
    "    crossvalidation = cross_val_score(model, x, y, cv=folds, n_jobs=-1)\n",
    "    return crossvalidation"
   ],
   "metadata": {
    "collapsed": false
   }
  }
 ],
 "metadata": {
  "kernelspec": {
   "display_name": "Python 3",
   "language": "python",
   "name": "python3"
  },
  "language_info": {
   "codemirror_mode": {
    "name": "ipython",
    "version": 2
   },
   "file_extension": ".py",
   "mimetype": "text/x-python",
   "name": "python",
   "nbconvert_exporter": "python",
   "pygments_lexer": "ipython2",
   "version": "2.7.6"
  }
 },
 "nbformat": 4,
 "nbformat_minor": 0
}
